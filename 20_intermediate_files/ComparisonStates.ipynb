{
 "cells": [
  {
   "cell_type": "code",
   "execution_count": 18,
   "metadata": {},
   "outputs": [
    {
     "data": {
      "text/plain": [
       "'/Users/dapoadegbile/estimating-impact-of-opioids-2020-team2'"
      ]
     },
     "execution_count": 18,
     "metadata": {},
     "output_type": "execute_result"
    }
   ],
   "source": [
    "import pandas as pd\n",
    "import os\n",
    "os.chdir('/Users/dapoadegbile/estimating-impact-of-opioids-2020-team2')\n",
    "os.getcwd()\n"
   ]
  },
  {
   "cell_type": "code",
   "execution_count": 19,
   "metadata": {},
   "outputs": [],
   "source": [
    "import warnings\n",
    "warnings.filterwarnings(\"ignore\")\n",
    "NMData =  pd.read_csv(\"./20_intermediate_files/NM_shipment_and_pop.csv\", index_col = 0 )\n",
    "AZData =  pd.read_csv(\"./20_intermediate_files/AZ_shipment_and_pop.csv\", index_col = 0 )\n",
    "PAData =  pd.read_csv(\"./20_intermediate_files/PA_shipment_and_pop.csv\", index_col = 0 )"
   ]
  },
  {
   "cell_type": "code",
   "execution_count": 20,
   "metadata": {},
   "outputs": [
    {
     "data": {
      "text/html": [
       "<div>\n",
       "<style scoped>\n",
       "    .dataframe tbody tr th:only-of-type {\n",
       "        vertical-align: middle;\n",
       "    }\n",
       "\n",
       "    .dataframe tbody tr th {\n",
       "        vertical-align: top;\n",
       "    }\n",
       "\n",
       "    .dataframe thead th {\n",
       "        text-align: right;\n",
       "    }\n",
       "</style>\n",
       "<table border=\"1\" class=\"dataframe\">\n",
       "  <thead>\n",
       "    <tr style=\"text-align: right;\">\n",
       "      <th></th>\n",
       "      <th>Year</th>\n",
       "      <th>BUYER_STATE</th>\n",
       "      <th>County</th>\n",
       "      <th>MORPHINE_EQUIV_IN_MG</th>\n",
       "      <th>Population</th>\n",
       "    </tr>\n",
       "  </thead>\n",
       "  <tbody>\n",
       "    <tr>\n",
       "      <th>0</th>\n",
       "      <td>2014</td>\n",
       "      <td>NM</td>\n",
       "      <td>DE BACA</td>\n",
       "      <td>4540.50</td>\n",
       "      <td>1,861</td>\n",
       "    </tr>\n",
       "    <tr>\n",
       "      <th>1</th>\n",
       "      <td>2014</td>\n",
       "      <td>NM</td>\n",
       "      <td>DE BACA</td>\n",
       "      <td>2270.25</td>\n",
       "      <td>1,861</td>\n",
       "    </tr>\n",
       "    <tr>\n",
       "      <th>2</th>\n",
       "      <td>2014</td>\n",
       "      <td>NM</td>\n",
       "      <td>DE BACA</td>\n",
       "      <td>3027.00</td>\n",
       "      <td>1,861</td>\n",
       "    </tr>\n",
       "    <tr>\n",
       "      <th>3</th>\n",
       "      <td>2012</td>\n",
       "      <td>NM</td>\n",
       "      <td>VALENCIA</td>\n",
       "      <td>1513.50</td>\n",
       "      <td>76,789</td>\n",
       "    </tr>\n",
       "    <tr>\n",
       "      <th>4</th>\n",
       "      <td>2014</td>\n",
       "      <td>NM</td>\n",
       "      <td>VALENCIA</td>\n",
       "      <td>3027.00</td>\n",
       "      <td>75,892</td>\n",
       "    </tr>\n",
       "  </tbody>\n",
       "</table>\n",
       "</div>"
      ],
      "text/plain": [
       "   Year BUYER_STATE    County  MORPHINE_EQUIV_IN_MG Population\n",
       "0  2014          NM   DE BACA               4540.50      1,861\n",
       "1  2014          NM   DE BACA               2270.25      1,861\n",
       "2  2014          NM   DE BACA               3027.00      1,861\n",
       "3  2012          NM  VALENCIA               1513.50     76,789\n",
       "4  2014          NM  VALENCIA               3027.00     75,892"
      ]
     },
     "execution_count": 20,
     "metadata": {},
     "output_type": "execute_result"
    }
   ],
   "source": [
    "NMData.head()"
   ]
  },
  {
   "cell_type": "code",
   "execution_count": 21,
   "metadata": {},
   "outputs": [],
   "source": [
    "comparisonStates = pd.concat([NMData, AZData, PAData], ignore_index = True)"
   ]
  },
  {
   "cell_type": "code",
   "execution_count": 22,
   "metadata": {},
   "outputs": [
    {
     "data": {
      "text/plain": [
       "(17270587, 5)"
      ]
     },
     "execution_count": 22,
     "metadata": {},
     "output_type": "execute_result"
    }
   ],
   "source": [
    "comparisonStates.shape"
   ]
  },
  {
   "cell_type": "code",
   "execution_count": 23,
   "metadata": {},
   "outputs": [
    {
     "data": {
      "text/html": [
       "<div>\n",
       "<style scoped>\n",
       "    .dataframe tbody tr th:only-of-type {\n",
       "        vertical-align: middle;\n",
       "    }\n",
       "\n",
       "    .dataframe tbody tr th {\n",
       "        vertical-align: top;\n",
       "    }\n",
       "\n",
       "    .dataframe thead th {\n",
       "        text-align: right;\n",
       "    }\n",
       "</style>\n",
       "<table border=\"1\" class=\"dataframe\">\n",
       "  <thead>\n",
       "    <tr style=\"text-align: right;\">\n",
       "      <th></th>\n",
       "      <th>Year</th>\n",
       "      <th>BUYER_STATE</th>\n",
       "      <th>County</th>\n",
       "      <th>MORPHINE_EQUIV_IN_MG</th>\n",
       "      <th>Population</th>\n",
       "    </tr>\n",
       "  </thead>\n",
       "  <tbody>\n",
       "    <tr>\n",
       "      <th>8027642</th>\n",
       "      <td>2011</td>\n",
       "      <td>PA</td>\n",
       "      <td>CARBON</td>\n",
       "      <td>2689.500</td>\n",
       "      <td>65,086</td>\n",
       "    </tr>\n",
       "    <tr>\n",
       "      <th>13582600</th>\n",
       "      <td>2008</td>\n",
       "      <td>PA</td>\n",
       "      <td>LACKAWANNA</td>\n",
       "      <td>336.150</td>\n",
       "      <td>214,044</td>\n",
       "    </tr>\n",
       "    <tr>\n",
       "      <th>10689866</th>\n",
       "      <td>2008</td>\n",
       "      <td>PA</td>\n",
       "      <td>ALLEGHENY</td>\n",
       "      <td>302.700</td>\n",
       "      <td>1,221,071</td>\n",
       "    </tr>\n",
       "    <tr>\n",
       "      <th>4260425</th>\n",
       "      <td>2011</td>\n",
       "      <td>AZ</td>\n",
       "      <td>MARICOPA</td>\n",
       "      <td>605.400</td>\n",
       "      <td>3,874,996</td>\n",
       "    </tr>\n",
       "    <tr>\n",
       "      <th>3825699</th>\n",
       "      <td>2014</td>\n",
       "      <td>AZ</td>\n",
       "      <td>MARICOPA</td>\n",
       "      <td>3361.875</td>\n",
       "      <td>4,093,648</td>\n",
       "    </tr>\n",
       "    <tr>\n",
       "      <th>17034889</th>\n",
       "      <td>2008</td>\n",
       "      <td>PA</td>\n",
       "      <td>ALLEGHENY</td>\n",
       "      <td>24205.500</td>\n",
       "      <td>1,221,071</td>\n",
       "    </tr>\n",
       "    <tr>\n",
       "      <th>7034465</th>\n",
       "      <td>2010</td>\n",
       "      <td>PA</td>\n",
       "      <td>CLEARFIELD</td>\n",
       "      <td>1362.150</td>\n",
       "      <td>81,545</td>\n",
       "    </tr>\n",
       "    <tr>\n",
       "      <th>12551777</th>\n",
       "      <td>2011</td>\n",
       "      <td>PA</td>\n",
       "      <td>ALLEGHENY</td>\n",
       "      <td>605.400</td>\n",
       "      <td>1,228,297</td>\n",
       "    </tr>\n",
       "    <tr>\n",
       "      <th>14704132</th>\n",
       "      <td>2012</td>\n",
       "      <td>PA</td>\n",
       "      <td>PHILADELPHIA</td>\n",
       "      <td>10758.000</td>\n",
       "      <td>1,551,824</td>\n",
       "    </tr>\n",
       "    <tr>\n",
       "      <th>5835083</th>\n",
       "      <td>2007</td>\n",
       "      <td>AZ</td>\n",
       "      <td>PINAL</td>\n",
       "      <td>24205.500</td>\n",
       "      <td>306,174</td>\n",
       "    </tr>\n",
       "  </tbody>\n",
       "</table>\n",
       "</div>"
      ],
      "text/plain": [
       "          Year BUYER_STATE        County  MORPHINE_EQUIV_IN_MG Population\n",
       "8027642   2011          PA        CARBON              2689.500     65,086\n",
       "13582600  2008          PA    LACKAWANNA               336.150    214,044\n",
       "10689866  2008          PA     ALLEGHENY               302.700  1,221,071\n",
       "4260425   2011          AZ      MARICOPA               605.400  3,874,996\n",
       "3825699   2014          AZ      MARICOPA              3361.875  4,093,648\n",
       "17034889  2008          PA     ALLEGHENY             24205.500  1,221,071\n",
       "7034465   2010          PA    CLEARFIELD              1362.150     81,545\n",
       "12551777  2011          PA     ALLEGHENY               605.400  1,228,297\n",
       "14704132  2012          PA  PHILADELPHIA             10758.000  1,551,824\n",
       "5835083   2007          AZ         PINAL             24205.500    306,174"
      ]
     },
     "execution_count": 23,
     "metadata": {},
     "output_type": "execute_result"
    }
   ],
   "source": [
    "comparisonStates.sample(10)"
   ]
  },
  {
   "cell_type": "code",
   "execution_count": 27,
   "metadata": {},
   "outputs": [
    {
     "data": {
      "text/html": [
       "<div>\n",
       "<style scoped>\n",
       "    .dataframe tbody tr th:only-of-type {\n",
       "        vertical-align: middle;\n",
       "    }\n",
       "\n",
       "    .dataframe tbody tr th {\n",
       "        vertical-align: top;\n",
       "    }\n",
       "\n",
       "    .dataframe thead th {\n",
       "        text-align: right;\n",
       "    }\n",
       "</style>\n",
       "<table border=\"1\" class=\"dataframe\">\n",
       "  <thead>\n",
       "    <tr style=\"text-align: right;\">\n",
       "      <th></th>\n",
       "      <th>Year</th>\n",
       "      <th>BUYER_STATE</th>\n",
       "      <th>County</th>\n",
       "      <th>MORPHINE_EQUIV_IN_MG</th>\n",
       "      <th>Population</th>\n",
       "    </tr>\n",
       "  </thead>\n",
       "  <tbody>\n",
       "  </tbody>\n",
       "</table>\n",
       "</div>"
      ],
      "text/plain": [
       "Empty DataFrame\n",
       "Columns: [Year, BUYER_STATE, County, MORPHINE_EQUIV_IN_MG, Population]\n",
       "Index: []"
      ]
     },
     "execution_count": 27,
     "metadata": {},
     "output_type": "execute_result"
    }
   ],
   "source": [
    "# comparisonStates[comparisonStates['Population'].isnull()]\n"
   ]
  },
  {
   "cell_type": "code",
   "execution_count": 28,
   "metadata": {},
   "outputs": [],
   "source": [
    "comparisonStates['Population'] = comparisonStates['Population'].apply(lambda x: x.replace(',', ''))"
   ]
  },
  {
   "cell_type": "code",
   "execution_count": 19,
   "metadata": {},
   "outputs": [],
   "source": [
    "# comparisonStates['Population'] = comparisonStates['Population'].str.strip(\",\")"
   ]
  },
  {
   "cell_type": "code",
   "execution_count": 29,
   "metadata": {},
   "outputs": [],
   "source": [
    "comparisonStates['Population'] =  comparisonStates['Population'].astype(int)\n"
   ]
  },
  {
   "cell_type": "code",
   "execution_count": 30,
   "metadata": {},
   "outputs": [
    {
     "data": {
      "text/plain": [
       "0      1861\n",
       "1      1861\n",
       "2      1861\n",
       "3     76789\n",
       "4     75892\n",
       "5     75892\n",
       "6     75892\n",
       "7     17995\n",
       "8    213126\n",
       "9    213126\n",
       "Name: Population, dtype: int64"
      ]
     },
     "execution_count": 30,
     "metadata": {},
     "output_type": "execute_result"
    }
   ],
   "source": [
    "# comparisonStates['Population'].head(10)"
   ]
  },
  {
   "cell_type": "code",
   "execution_count": 34,
   "metadata": {},
   "outputs": [
    {
     "data": {
      "text/html": [
       "<div>\n",
       "<style scoped>\n",
       "    .dataframe tbody tr th:only-of-type {\n",
       "        vertical-align: middle;\n",
       "    }\n",
       "\n",
       "    .dataframe tbody tr th {\n",
       "        vertical-align: top;\n",
       "    }\n",
       "\n",
       "    .dataframe thead th {\n",
       "        text-align: right;\n",
       "    }\n",
       "</style>\n",
       "<table border=\"1\" class=\"dataframe\">\n",
       "  <thead>\n",
       "    <tr style=\"text-align: right;\">\n",
       "      <th></th>\n",
       "      <th>MORPHINE_EQUIV_IN_MG</th>\n",
       "      <th>Population</th>\n",
       "    </tr>\n",
       "    <tr>\n",
       "      <th>Year</th>\n",
       "      <th></th>\n",
       "      <th></th>\n",
       "    </tr>\n",
       "  </thead>\n",
       "  <tbody>\n",
       "    <tr>\n",
       "      <th>2006</th>\n",
       "      <td>5.960705e+09</td>\n",
       "      <td>1571923255193</td>\n",
       "    </tr>\n",
       "    <tr>\n",
       "      <th>2007</th>\n",
       "      <td>6.896136e+09</td>\n",
       "      <td>1764793931736</td>\n",
       "    </tr>\n",
       "    <tr>\n",
       "      <th>2008</th>\n",
       "      <td>7.744266e+09</td>\n",
       "      <td>1931049629860</td>\n",
       "    </tr>\n",
       "    <tr>\n",
       "      <th>2009</th>\n",
       "      <td>8.684839e+09</td>\n",
       "      <td>2036291024441</td>\n",
       "    </tr>\n",
       "    <tr>\n",
       "      <th>2010</th>\n",
       "      <td>9.519364e+09</td>\n",
       "      <td>2116840033886</td>\n",
       "    </tr>\n",
       "    <tr>\n",
       "      <th>2011</th>\n",
       "      <td>1.049407e+10</td>\n",
       "      <td>2287045926697</td>\n",
       "    </tr>\n",
       "    <tr>\n",
       "      <th>2012</th>\n",
       "      <td>1.086222e+10</td>\n",
       "      <td>2411903621579</td>\n",
       "    </tr>\n",
       "    <tr>\n",
       "      <th>2013</th>\n",
       "      <td>1.024006e+10</td>\n",
       "      <td>2557472251660</td>\n",
       "    </tr>\n",
       "    <tr>\n",
       "      <th>2014</th>\n",
       "      <td>1.028864e+10</td>\n",
       "      <td>2402509323159</td>\n",
       "    </tr>\n",
       "  </tbody>\n",
       "</table>\n",
       "</div>"
      ],
      "text/plain": [
       "      MORPHINE_EQUIV_IN_MG     Population\n",
       "Year                                     \n",
       "2006          5.960705e+09  1571923255193\n",
       "2007          6.896136e+09  1764793931736\n",
       "2008          7.744266e+09  1931049629860\n",
       "2009          8.684839e+09  2036291024441\n",
       "2010          9.519364e+09  2116840033886\n",
       "2011          1.049407e+10  2287045926697\n",
       "2012          1.086222e+10  2411903621579\n",
       "2013          1.024006e+10  2557472251660\n",
       "2014          1.028864e+10  2402509323159"
      ]
     },
     "execution_count": 34,
     "metadata": {},
     "output_type": "execute_result"
    }
   ],
   "source": [
    "comparisonStates = comparisonStates.groupby([\"Year\"]).sum()"
   ]
  },
  {
   "cell_type": "code",
   "execution_count": 35,
   "metadata": {},
   "outputs": [],
   "source": [
    "comparisonStates['Avg_Morph_MG_PerCap'] = comparisonStates['MORPHINE_EQUIV_IN_MG'] / comparisonStates['Population']"
   ]
  },
  {
   "cell_type": "code",
   "execution_count": 37,
   "metadata": {},
   "outputs": [
    {
     "data": {
      "text/html": [
       "<div>\n",
       "<style scoped>\n",
       "    .dataframe tbody tr th:only-of-type {\n",
       "        vertical-align: middle;\n",
       "    }\n",
       "\n",
       "    .dataframe tbody tr th {\n",
       "        vertical-align: top;\n",
       "    }\n",
       "\n",
       "    .dataframe thead th {\n",
       "        text-align: right;\n",
       "    }\n",
       "</style>\n",
       "<table border=\"1\" class=\"dataframe\">\n",
       "  <thead>\n",
       "    <tr style=\"text-align: right;\">\n",
       "      <th></th>\n",
       "      <th>MORPHINE_EQUIV_IN_MG</th>\n",
       "      <th>Population</th>\n",
       "      <th>Avg_Morph_MG_PerCap</th>\n",
       "    </tr>\n",
       "    <tr>\n",
       "      <th>Year</th>\n",
       "      <th></th>\n",
       "      <th></th>\n",
       "      <th></th>\n",
       "    </tr>\n",
       "  </thead>\n",
       "  <tbody>\n",
       "    <tr>\n",
       "      <th>2006</th>\n",
       "      <td>5.960705e+09</td>\n",
       "      <td>1571923255193</td>\n",
       "      <td>0.003792</td>\n",
       "    </tr>\n",
       "    <tr>\n",
       "      <th>2007</th>\n",
       "      <td>6.896136e+09</td>\n",
       "      <td>1764793931736</td>\n",
       "      <td>0.003908</td>\n",
       "    </tr>\n",
       "    <tr>\n",
       "      <th>2008</th>\n",
       "      <td>7.744266e+09</td>\n",
       "      <td>1931049629860</td>\n",
       "      <td>0.004010</td>\n",
       "    </tr>\n",
       "    <tr>\n",
       "      <th>2009</th>\n",
       "      <td>8.684839e+09</td>\n",
       "      <td>2036291024441</td>\n",
       "      <td>0.004265</td>\n",
       "    </tr>\n",
       "    <tr>\n",
       "      <th>2010</th>\n",
       "      <td>9.519364e+09</td>\n",
       "      <td>2116840033886</td>\n",
       "      <td>0.004497</td>\n",
       "    </tr>\n",
       "    <tr>\n",
       "      <th>2011</th>\n",
       "      <td>1.049407e+10</td>\n",
       "      <td>2287045926697</td>\n",
       "      <td>0.004588</td>\n",
       "    </tr>\n",
       "    <tr>\n",
       "      <th>2012</th>\n",
       "      <td>1.086222e+10</td>\n",
       "      <td>2411903621579</td>\n",
       "      <td>0.004504</td>\n",
       "    </tr>\n",
       "    <tr>\n",
       "      <th>2013</th>\n",
       "      <td>1.024006e+10</td>\n",
       "      <td>2557472251660</td>\n",
       "      <td>0.004004</td>\n",
       "    </tr>\n",
       "    <tr>\n",
       "      <th>2014</th>\n",
       "      <td>1.028864e+10</td>\n",
       "      <td>2402509323159</td>\n",
       "      <td>0.004282</td>\n",
       "    </tr>\n",
       "  </tbody>\n",
       "</table>\n",
       "</div>"
      ],
      "text/plain": [
       "      MORPHINE_EQUIV_IN_MG     Population  Avg_Morph_MG_PerCap\n",
       "Year                                                          \n",
       "2006          5.960705e+09  1571923255193             0.003792\n",
       "2007          6.896136e+09  1764793931736             0.003908\n",
       "2008          7.744266e+09  1931049629860             0.004010\n",
       "2009          8.684839e+09  2036291024441             0.004265\n",
       "2010          9.519364e+09  2116840033886             0.004497\n",
       "2011          1.049407e+10  2287045926697             0.004588\n",
       "2012          1.086222e+10  2411903621579             0.004504\n",
       "2013          1.024006e+10  2557472251660             0.004004\n",
       "2014          1.028864e+10  2402509323159             0.004282"
      ]
     },
     "execution_count": 37,
     "metadata": {},
     "output_type": "execute_result"
    }
   ],
   "source": [
    "comparisonStates.head(10)"
   ]
  },
  {
   "cell_type": "code",
   "execution_count": 38,
   "metadata": {},
   "outputs": [],
   "source": [
    "comparisonStates.to_csv(r\"/Users/dapoadegbile/estimating-impact-of-opioids-2020-team2/20_intermediate_files/ComparisonStatesMorphPerCap.csv\")"
   ]
  },
  {
   "cell_type": "code",
   "execution_count": null,
   "metadata": {},
   "outputs": [],
   "source": []
  }
 ],
 "metadata": {
  "kernelspec": {
   "display_name": "Python 3",
   "language": "python",
   "name": "python3"
  },
  "language_info": {
   "codemirror_mode": {
    "name": "ipython",
    "version": 3
   },
   "file_extension": ".py",
   "mimetype": "text/x-python",
   "name": "python",
   "nbconvert_exporter": "python",
   "pygments_lexer": "ipython3",
   "version": "3.8.3"
  }
 },
 "nbformat": 4,
 "nbformat_minor": 4
}

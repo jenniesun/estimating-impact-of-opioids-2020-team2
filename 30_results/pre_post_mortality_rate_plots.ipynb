{
 "cells": [
  {
   "cell_type": "code",
   "execution_count": 1,
   "metadata": {},
   "outputs": [],
   "source": [
    "%load_ext lab_black\n",
    "import pandas as pd\n",
    "import seaborn as sns\n",
    "import matplotlib.pyplot as plt\n",
    "import numpy as np\n",
    "import statsmodels.api as sm"
   ]
  },
  {
   "cell_type": "code",
   "execution_count": 2,
   "metadata": {},
   "outputs": [],
   "source": [
    "# load mortality rate data\n",
    "\n",
    "fl_pre_policy_mortality = pd.read_csv(\n",
    "    \"./fl_pre_policy_mortality.csv\",\n",
    "    sep=\",\",\n",
    ")\n",
    "fl_post_policy_mortality = pd.read_csv(\n",
    "    \"./fl_post_policy_mortality.csv\",\n",
    "    sep=\",\",\n",
    ")\n",
    "tx_pre_policy_mortality = pd.read_csv(\n",
    "    \"./tx_pre_policy_mortality.csv\",\n",
    "    sep=\",\",\n",
    ")\n",
    "tx_post_policy_mortality = pd.read_csv(\n",
    "    \"./tx_post_policy_mortality.csv\",\n",
    "    sep=\",\",\n",
    ")\n",
    "wa_pre_policy_mortality = pd.read_csv(\n",
    "    \"./wa_pre_policy_mortality.csv\",\n",
    "    sep=\",\",\n",
    ")\n",
    "wa_post_policy_mortality = pd.read_csv(\n",
    "    \"./wa_post_policy_mortality.csv\",\n",
    "    sep=\",\",\n",
    ")"
   ]
  },
  {
   "cell_type": "code",
   "execution_count": 3,
   "metadata": {},
   "outputs": [],
   "source": [
    "# concatenate pre and post mortality rate data\n",
    "\n",
    "fl_mortality = pd.concat([fl_pre_policy_mortality, fl_post_policy_mortality])\n",
    "tx_mortality = pd.concat([tx_pre_policy_mortality, tx_post_policy_mortality])\n",
    "wa_mortality = pd.concat([wa_pre_policy_mortality, wa_post_policy_mortality])"
   ]
  },
  {
   "cell_type": "code",
   "execution_count": 4,
   "metadata": {},
   "outputs": [],
   "source": [
    "# subset to dataframes with averaged mortality rate by year for each state\n",
    "\n",
    "fl_mortality_avg = fl_mortality.groupby([\"Year\"], as_index=False)[\n",
    "    \"Mortality Rate\"\n",
    "].mean()\n",
    "tx_mortality_avg = tx_mortality.groupby([\"Year\"], as_index=False)[\n",
    "    \"Mortality Rate\"\n",
    "].mean()\n",
    "wa_mortality_avg = wa_mortality.groupby([\"Year\"], as_index=False)[\n",
    "    \"Mortality Rate\"\n",
    "].mean()"
   ]
  },
  {
   "cell_type": "code",
   "execution_count": 5,
   "metadata": {},
   "outputs": [
    {
     "data": {
      "text/html": [
       "<div>\n",
       "<style scoped>\n",
       "    .dataframe tbody tr th:only-of-type {\n",
       "        vertical-align: middle;\n",
       "    }\n",
       "\n",
       "    .dataframe tbody tr th {\n",
       "        vertical-align: top;\n",
       "    }\n",
       "\n",
       "    .dataframe thead th {\n",
       "        text-align: right;\n",
       "    }\n",
       "</style>\n",
       "<table border=\"1\" class=\"dataframe\">\n",
       "  <thead>\n",
       "    <tr style=\"text-align: right;\">\n",
       "      <th></th>\n",
       "      <th>Year</th>\n",
       "      <th>Mortality Rate</th>\n",
       "    </tr>\n",
       "  </thead>\n",
       "  <tbody>\n",
       "    <tr>\n",
       "      <th>0</th>\n",
       "      <td>2003</td>\n",
       "      <td>0.000118</td>\n",
       "    </tr>\n",
       "    <tr>\n",
       "      <th>1</th>\n",
       "      <td>2004</td>\n",
       "      <td>0.000126</td>\n",
       "    </tr>\n",
       "    <tr>\n",
       "      <th>2</th>\n",
       "      <td>2005</td>\n",
       "      <td>0.000137</td>\n",
       "    </tr>\n",
       "    <tr>\n",
       "      <th>3</th>\n",
       "      <td>2006</td>\n",
       "      <td>0.000159</td>\n",
       "    </tr>\n",
       "    <tr>\n",
       "      <th>4</th>\n",
       "      <td>2007</td>\n",
       "      <td>0.000151</td>\n",
       "    </tr>\n",
       "    <tr>\n",
       "      <th>5</th>\n",
       "      <td>2008</td>\n",
       "      <td>0.000164</td>\n",
       "    </tr>\n",
       "    <tr>\n",
       "      <th>6</th>\n",
       "      <td>2009</td>\n",
       "      <td>0.000159</td>\n",
       "    </tr>\n",
       "    <tr>\n",
       "      <th>7</th>\n",
       "      <td>2010</td>\n",
       "      <td>0.000122</td>\n",
       "    </tr>\n",
       "    <tr>\n",
       "      <th>8</th>\n",
       "      <td>2011</td>\n",
       "      <td>0.000123</td>\n",
       "    </tr>\n",
       "    <tr>\n",
       "      <th>9</th>\n",
       "      <td>2012</td>\n",
       "      <td>0.000143</td>\n",
       "    </tr>\n",
       "    <tr>\n",
       "      <th>10</th>\n",
       "      <td>2013</td>\n",
       "      <td>0.000157</td>\n",
       "    </tr>\n",
       "    <tr>\n",
       "      <th>11</th>\n",
       "      <td>2014</td>\n",
       "      <td>0.000156</td>\n",
       "    </tr>\n",
       "    <tr>\n",
       "      <th>12</th>\n",
       "      <td>2015</td>\n",
       "      <td>0.000160</td>\n",
       "    </tr>\n",
       "  </tbody>\n",
       "</table>\n",
       "</div>"
      ],
      "text/plain": [
       "    Year  Mortality Rate\n",
       "0   2003        0.000118\n",
       "1   2004        0.000126\n",
       "2   2005        0.000137\n",
       "3   2006        0.000159\n",
       "4   2007        0.000151\n",
       "5   2008        0.000164\n",
       "6   2009        0.000159\n",
       "7   2010        0.000122\n",
       "8   2011        0.000123\n",
       "9   2012        0.000143\n",
       "10  2013        0.000157\n",
       "11  2014        0.000156\n",
       "12  2015        0.000160"
      ]
     },
     "execution_count": 5,
     "metadata": {},
     "output_type": "execute_result"
    }
   ],
   "source": [
    "fl_mortality_avg"
   ]
  },
  {
   "cell_type": "code",
   "execution_count": 6,
   "metadata": {},
   "outputs": [
    {
     "data": {
      "text/html": [
       "<div>\n",
       "<style scoped>\n",
       "    .dataframe tbody tr th:only-of-type {\n",
       "        vertical-align: middle;\n",
       "    }\n",
       "\n",
       "    .dataframe tbody tr th {\n",
       "        vertical-align: top;\n",
       "    }\n",
       "\n",
       "    .dataframe thead th {\n",
       "        text-align: right;\n",
       "    }\n",
       "</style>\n",
       "<table border=\"1\" class=\"dataframe\">\n",
       "  <thead>\n",
       "    <tr style=\"text-align: right;\">\n",
       "      <th></th>\n",
       "      <th>Year</th>\n",
       "      <th>Mortality Rate</th>\n",
       "    </tr>\n",
       "  </thead>\n",
       "  <tbody>\n",
       "    <tr>\n",
       "      <th>0</th>\n",
       "      <td>2003</td>\n",
       "      <td>0.000094</td>\n",
       "    </tr>\n",
       "    <tr>\n",
       "      <th>1</th>\n",
       "      <td>2004</td>\n",
       "      <td>0.000083</td>\n",
       "    </tr>\n",
       "    <tr>\n",
       "      <th>2</th>\n",
       "      <td>2005</td>\n",
       "      <td>0.000091</td>\n",
       "    </tr>\n",
       "    <tr>\n",
       "      <th>3</th>\n",
       "      <td>2006</td>\n",
       "      <td>0.000131</td>\n",
       "    </tr>\n",
       "    <tr>\n",
       "      <th>4</th>\n",
       "      <td>2007</td>\n",
       "      <td>0.000098</td>\n",
       "    </tr>\n",
       "    <tr>\n",
       "      <th>5</th>\n",
       "      <td>2008</td>\n",
       "      <td>0.000104</td>\n",
       "    </tr>\n",
       "    <tr>\n",
       "      <th>6</th>\n",
       "      <td>2009</td>\n",
       "      <td>0.000116</td>\n",
       "    </tr>\n",
       "    <tr>\n",
       "      <th>7</th>\n",
       "      <td>2010</td>\n",
       "      <td>0.000107</td>\n",
       "    </tr>\n",
       "    <tr>\n",
       "      <th>8</th>\n",
       "      <td>2011</td>\n",
       "      <td>0.000109</td>\n",
       "    </tr>\n",
       "    <tr>\n",
       "      <th>9</th>\n",
       "      <td>2012</td>\n",
       "      <td>0.000100</td>\n",
       "    </tr>\n",
       "    <tr>\n",
       "      <th>10</th>\n",
       "      <td>2013</td>\n",
       "      <td>0.000097</td>\n",
       "    </tr>\n",
       "    <tr>\n",
       "      <th>11</th>\n",
       "      <td>2014</td>\n",
       "      <td>0.000104</td>\n",
       "    </tr>\n",
       "    <tr>\n",
       "      <th>12</th>\n",
       "      <td>2015</td>\n",
       "      <td>0.000099</td>\n",
       "    </tr>\n",
       "  </tbody>\n",
       "</table>\n",
       "</div>"
      ],
      "text/plain": [
       "    Year  Mortality Rate\n",
       "0   2003        0.000094\n",
       "1   2004        0.000083\n",
       "2   2005        0.000091\n",
       "3   2006        0.000131\n",
       "4   2007        0.000098\n",
       "5   2008        0.000104\n",
       "6   2009        0.000116\n",
       "7   2010        0.000107\n",
       "8   2011        0.000109\n",
       "9   2012        0.000100\n",
       "10  2013        0.000097\n",
       "11  2014        0.000104\n",
       "12  2015        0.000099"
      ]
     },
     "execution_count": 6,
     "metadata": {},
     "output_type": "execute_result"
    }
   ],
   "source": [
    "tx_mortality_avg"
   ]
  },
  {
   "cell_type": "code",
   "execution_count": 7,
   "metadata": {},
   "outputs": [
    {
     "data": {
      "text/html": [
       "<div>\n",
       "<style scoped>\n",
       "    .dataframe tbody tr th:only-of-type {\n",
       "        vertical-align: middle;\n",
       "    }\n",
       "\n",
       "    .dataframe tbody tr th {\n",
       "        vertical-align: top;\n",
       "    }\n",
       "\n",
       "    .dataframe thead th {\n",
       "        text-align: right;\n",
       "    }\n",
       "</style>\n",
       "<table border=\"1\" class=\"dataframe\">\n",
       "  <thead>\n",
       "    <tr style=\"text-align: right;\">\n",
       "      <th></th>\n",
       "      <th>Year</th>\n",
       "      <th>Mortality Rate</th>\n",
       "    </tr>\n",
       "  </thead>\n",
       "  <tbody>\n",
       "    <tr>\n",
       "      <th>0</th>\n",
       "      <td>2003</td>\n",
       "      <td>0.000101</td>\n",
       "    </tr>\n",
       "    <tr>\n",
       "      <th>1</th>\n",
       "      <td>2004</td>\n",
       "      <td>0.000130</td>\n",
       "    </tr>\n",
       "    <tr>\n",
       "      <th>2</th>\n",
       "      <td>2005</td>\n",
       "      <td>0.000131</td>\n",
       "    </tr>\n",
       "    <tr>\n",
       "      <th>3</th>\n",
       "      <td>2006</td>\n",
       "      <td>0.000143</td>\n",
       "    </tr>\n",
       "    <tr>\n",
       "      <th>4</th>\n",
       "      <td>2007</td>\n",
       "      <td>0.000139</td>\n",
       "    </tr>\n",
       "    <tr>\n",
       "      <th>5</th>\n",
       "      <td>2008</td>\n",
       "      <td>0.000145</td>\n",
       "    </tr>\n",
       "    <tr>\n",
       "      <th>6</th>\n",
       "      <td>2009</td>\n",
       "      <td>0.000143</td>\n",
       "    </tr>\n",
       "    <tr>\n",
       "      <th>7</th>\n",
       "      <td>2010</td>\n",
       "      <td>0.000120</td>\n",
       "    </tr>\n",
       "    <tr>\n",
       "      <th>8</th>\n",
       "      <td>2011</td>\n",
       "      <td>0.000143</td>\n",
       "    </tr>\n",
       "    <tr>\n",
       "      <th>9</th>\n",
       "      <td>2012</td>\n",
       "      <td>0.000140</td>\n",
       "    </tr>\n",
       "    <tr>\n",
       "      <th>10</th>\n",
       "      <td>2013</td>\n",
       "      <td>0.000136</td>\n",
       "    </tr>\n",
       "    <tr>\n",
       "      <th>11</th>\n",
       "      <td>2014</td>\n",
       "      <td>0.000134</td>\n",
       "    </tr>\n",
       "    <tr>\n",
       "      <th>12</th>\n",
       "      <td>2015</td>\n",
       "      <td>0.000145</td>\n",
       "    </tr>\n",
       "  </tbody>\n",
       "</table>\n",
       "</div>"
      ],
      "text/plain": [
       "    Year  Mortality Rate\n",
       "0   2003        0.000101\n",
       "1   2004        0.000130\n",
       "2   2005        0.000131\n",
       "3   2006        0.000143\n",
       "4   2007        0.000139\n",
       "5   2008        0.000145\n",
       "6   2009        0.000143\n",
       "7   2010        0.000120\n",
       "8   2011        0.000143\n",
       "9   2012        0.000140\n",
       "10  2013        0.000136\n",
       "11  2014        0.000134\n",
       "12  2015        0.000145"
      ]
     },
     "execution_count": 7,
     "metadata": {},
     "output_type": "execute_result"
    }
   ],
   "source": [
    "wa_mortality_avg"
   ]
  },
  {
   "cell_type": "markdown",
   "metadata": {},
   "source": [
    "### Plot Pre-Post Policy for Florida, Texas, and Washington"
   ]
  },
  {
   "cell_type": "markdown",
   "metadata": {},
   "source": [
    "#### Florida"
   ]
  },
  {
   "cell_type": "code",
   "execution_count": 8,
   "metadata": {},
   "outputs": [],
   "source": [
    "# seperate to pre and post policy periods for FL\n",
    "\n",
    "x_pre = np.array(fl_mortality_avg[fl_mortality_avg[\"Year\"] < 2010][\"Year\"])\n",
    "y_pre = np.array(fl_mortality_avg[fl_mortality_avg[\"Year\"] < 2010][\"Mortality Rate\"])\n",
    "\n",
    "x_post = np.array(fl_mortality_avg[fl_mortality_avg[\"Year\"] >= 2010][\"Year\"])\n",
    "y_post = np.array(fl_mortality_avg[fl_mortality_avg[\"Year\"] >= 2010][\"Mortality Rate\"])"
   ]
  },
  {
   "cell_type": "code",
   "execution_count": 9,
   "metadata": {},
   "outputs": [
    {
     "data": {
      "image/png": "[encoded data removed]",
      "text/plain": [
       "<Figure size 432x288 with 1 Axes>"
      ]
     },
     "metadata": {
      "needs_background": "light"
     },
     "output_type": "display_data"
    }
   ],
   "source": [
    "# plot the figure\n",
    "import warnings\n",
    "\n",
    "warnings.filterwarnings(\"ignore\")\n",
    "\n",
    "fig, ax = plt.subplots()\n",
    "\n",
    "ax.plot(x_pre, y_pre, \"o\")\n",
    "m, b = np.polyfit(x_pre, y_pre, 1)\n",
    "plt.plot(x_pre, m * x_pre + b)\n",
    "ax = sns.regplot(x_pre, y_pre, ci=95)\n",
    "\n",
    "ax.plot(x_post, y_post, \"o\")\n",
    "m, b = np.polyfit(x_post, y_post, 1)\n",
    "plt.plot(x_post, m * x_post + b)\n",
    "ax = sns.regplot(x_post, y_post, ci=95)\n",
    "\n",
    "plt.xlabel(\"Year\")\n",
    "plt.ylabel(\"Mortality Rate\")\n",
    "plt.title(\"FL Pre-Post Model Graph\")\n",
    "plt.axvline(x=2010, color=\"black\", ls=\":\")\n",
    "plt.text(2006.5, 0.00014, \"Policy Change\", fontsize=12)\n",
    "plt.text(2003.2, 0.00018, \"CI:95%\", fontsize=10)\n",
    "\n",
    "plt.show()"
   ]
  },
  {
   "cell_type": "code",
   "execution_count": 10,
   "metadata": {},
   "outputs": [],
   "source": [
    "# import warnings\n",
    "\n",
    "# warnings.filterwarnings(\"ignore\")\n",
    "\n",
    "# # regression result for pre policy period -- obtain standard error\n",
    "\n",
    "# model_pre = sm.OLS(y_pre, x_pre)\n",
    "# result_pre = model_pre.fit()\n",
    "# print(result_pre.summary())"
   ]
  },
  {
   "cell_type": "code",
   "execution_count": 11,
   "metadata": {},
   "outputs": [],
   "source": [
    "# import warnings\n",
    "\n",
    "# warnings.filterwarnings(\"ignore\")\n",
    "\n",
    "# # regression result for post policy period -- obtain standard error\n",
    "\n",
    "# model_post = sm.OLS(y_post, x_post)\n",
    "# result_post = model_post.fit()\n",
    "# print(result_post.summary())"
   ]
  },
  {
   "cell_type": "markdown",
   "metadata": {},
   "source": [
    "#### Texas"
   ]
  },
  {
   "cell_type": "code",
   "execution_count": 12,
   "metadata": {},
   "outputs": [],
   "source": [
    "# seperate to pre and post policy periods for TX\n",
    "\n",
    "x_pre_tx = np.array(tx_mortality_avg[tx_mortality_avg[\"Year\"] < 2007][\"Year\"])\n",
    "y_pre_tx = np.array(tx_mortality_avg[tx_mortality_avg[\"Year\"] < 2007][\"Mortality Rate\"])\n",
    "\n",
    "x_post_tx = np.array(tx_mortality_avg[tx_mortality_avg[\"Year\"] >= 2007][\"Year\"])\n",
    "y_post_tx = np.array(\n",
    "    tx_mortality_avg[tx_mortality_avg[\"Year\"] >= 2007][\"Mortality Rate\"]\n",
    ")"
   ]
  },
  {
   "cell_type": "code",
   "execution_count": 13,
   "metadata": {},
   "outputs": [
    {
     "data": {
      "image/png": "[encoded data removed]",
      "text/plain": [
       "<Figure size 432x288 with 1 Axes>"
      ]
     },
     "metadata": {
      "needs_background": "light"
     },
     "output_type": "display_data"
    }
   ],
   "source": [
    "# plot the figure\n",
    "import warnings\n",
    "\n",
    "warnings.filterwarnings(\"ignore\")\n",
    "\n",
    "fig, ax = plt.subplots()\n",
    "\n",
    "ax.plot(x_pre_tx, y_pre_tx, \"o\")\n",
    "m, b = np.polyfit(x_pre_tx, y_pre_tx, 1)\n",
    "plt.plot(x_pre_tx, m * x_pre_tx + b)\n",
    "ax = sns.regplot(x_pre_tx, y_pre_tx, ci=95)\n",
    "\n",
    "ax.plot(x_post_tx, y_post_tx, \"o\")\n",
    "m, b = np.polyfit(x_post_tx, y_post_tx, 1)\n",
    "plt.plot(x_post_tx, m * x_post_tx + b)\n",
    "ax = sns.regplot(x_post_tx, y_post_tx, ci=95)\n",
    "\n",
    "plt.xlabel(\"Year\")\n",
    "plt.ylabel(\"Mortality Rate\")\n",
    "plt.title(\"TX Pre-Post Model Graph\")\n",
    "plt.axvline(x=2007, color=\"black\", ls=\":\")\n",
    "plt.text(2007, 0.00008, \"Policy Change\", fontsize=12)\n",
    "plt.text(2003.2, 0.00013, \"CI:95%\", fontsize=10)\n",
    "\n",
    "plt.show()"
   ]
  },
  {
   "cell_type": "code",
   "execution_count": 14,
   "metadata": {},
   "outputs": [],
   "source": [
    "# import warnings\n",
    "\n",
    "# warnings.filterwarnings(\"ignore\")\n",
    "\n",
    "# # regression result for pre policy period -- obtain standard error\n",
    "\n",
    "# model_pre_tx = sm.OLS(y_pre_tx, x_pre_tx)\n",
    "# result_pre_tx = model_pre_tx.fit()\n",
    "# print(result_pre_tx.summary())"
   ]
  },
  {
   "cell_type": "code",
   "execution_count": 15,
   "metadata": {},
   "outputs": [],
   "source": [
    "# import warnings\n",
    "\n",
    "# warnings.filterwarnings(\"ignore\")\n",
    "\n",
    "# # regression result for post policy period -- obtain standard error\n",
    "\n",
    "# model_post_tx = sm.OLS(y_post_tx, x_post_tx)\n",
    "# result_post_tx = model_post_tx.fit()\n",
    "# print(result_post_tx.summary())"
   ]
  },
  {
   "cell_type": "markdown",
   "metadata": {},
   "source": [
    "#### Washington"
   ]
  },
  {
   "cell_type": "code",
   "execution_count": 16,
   "metadata": {},
   "outputs": [],
   "source": [
    "# seperate to pre and post policy periods for WA\n",
    "\n",
    "x_pre_wa = np.array(wa_mortality_avg[wa_mortality_avg[\"Year\"] < 2012][\"Year\"])\n",
    "y_pre_wa = np.array(wa_mortality_avg[wa_mortality_avg[\"Year\"] < 2012][\"Mortality Rate\"])\n",
    "\n",
    "x_post_wa = np.array(wa_mortality_avg[wa_mortality_avg[\"Year\"] >= 2012][\"Year\"])\n",
    "y_post_wa = np.array(\n",
    "    wa_mortality_avg[wa_mortality_avg[\"Year\"] >= 2012][\"Mortality Rate\"]\n",
    ")"
   ]
  },
  {
   "cell_type": "code",
   "execution_count": 17,
   "metadata": {},
   "outputs": [
    {
     "data": {
      "image/png": "[encoded data removed]",
      "text/plain": [
       "<Figure size 432x288 with 1 Axes>"
      ]
     },
     "metadata": {
      "needs_background": "light"
     },
     "output_type": "display_data"
    }
   ],
   "source": [
    "# plot the figure\n",
    "import warnings\n",
    "\n",
    "warnings.filterwarnings(\"ignore\")\n",
    "\n",
    "fig, ax = plt.subplots()\n",
    "\n",
    "ax.plot(x_pre_wa, y_pre_wa, \"o\")\n",
    "m, b = np.polyfit(x_pre_wa, y_pre_wa, 1)\n",
    "plt.plot(x_pre_wa, m * x_pre_wa + b)\n",
    "ax = sns.regplot(x_pre_wa, y_pre_wa, ci=95)\n",
    "\n",
    "ax.plot(x_post_wa, y_post_wa, \"o\")\n",
    "m, b = np.polyfit(x_post_wa, y_post_wa, 1)\n",
    "plt.plot(x_post_wa, m * x_post_wa + b)\n",
    "ax = sns.regplot(x_post_wa, y_post_wa, ci=95)\n",
    "\n",
    "plt.xlabel(\"Year\")\n",
    "plt.ylabel(\"Mortality Rate\")\n",
    "plt.title(\"WA Pre-Post Model Graph\")\n",
    "plt.axvline(x=2012, color=\"black\", ls=\":\")\n",
    "plt.text(2008.5, 0.000105, \"Policy Change\", fontsize=12)\n",
    "plt.text(2003.2, 0.000165, \"CI:95%\", fontsize=10)\n",
    "\n",
    "plt.show()"
   ]
  },
  {
   "cell_type": "code",
   "execution_count": 18,
   "metadata": {},
   "outputs": [],
   "source": [
    "# import warnings\n",
    "\n",
    "# warnings.filterwarnings(\"ignore\")\n",
    "\n",
    "# # regression result for pre policy period -- obtain standard error\n",
    "\n",
    "# model_pre_wa = sm.OLS(y_pre_wa, x_pre_wa)\n",
    "# result_pre_wa = model_pre_wa.fit()\n",
    "# print(result_pre_wa.summary())"
   ]
  },
  {
   "cell_type": "code",
   "execution_count": 19,
   "metadata": {},
   "outputs": [],
   "source": [
    "# import warnings\n",
    "\n",
    "# warnings.filterwarnings(\"ignore\")\n",
    "\n",
    "# # regression result for post policy period -- obtain standard error\n",
    "\n",
    "# model_post_wa = sm.OLS(y_post_wa, x_post_wa)\n",
    "# result_post_wa = model_post_wa.fit()\n",
    "# print(result_post_wa.summary())"
   ]
  }
 ],
 "metadata": {
  "kernelspec": {
   "display_name": "Python 3",
   "language": "python",
   "name": "python3"
  },
  "language_info": {
   "codemirror_mode": {
    "name": "ipython",
    "version": 3
   },
   "file_extension": ".py",
   "mimetype": "text/x-python",
   "name": "python",
   "nbconvert_exporter": "python",
   "pygments_lexer": "ipython3",
   "version": "3.7.6"
  }
 },
 "nbformat": 4,
 "nbformat_minor": 4
}

{
 "cells": [
  {
   "cell_type": "code",
   "execution_count": 1,
   "metadata": {},
   "outputs": [],
   "source": [
    "import numpy as np\n",
    "import pandas as pd "
   ]
  },
  {
   "cell_type": "code",
   "execution_count": 4,
   "metadata": {},
   "outputs": [
    {
     "data": {
      "text/plain": [
       "'/Users/dapoadegbile/estimating-impact-of-opioids-2020-team2'"
      ]
     },
     "execution_count": 4,
     "metadata": {},
     "output_type": "execute_result"
    }
   ],
   "source": [
    "use_cols = [\"BUYER_STATE\",\"BUYER_COUNTY\", \"CALC_BASE_WT_IN_GM\", \"MME_Conversion_Factor\",\"TRANSACTION_DATE\", \"DRUG_NAME\"]\n",
    "import os\n",
    "os.chdir('/Users/dapoadegbile/estimating-impact-of-opioids-2020-team2')\n",
    "os.getcwd()\n"
   ]
  },
  {
   "cell_type": "code",
   "execution_count": 11,
   "metadata": {},
   "outputs": [],
   "source": [
    "AZ_pre_policy = pd.read_csv(\"./20_intermediate_files/AZpop2000.csv\", header = [3])\n",
    "AZ_post_policy = pd.read_csv(\"./20_intermediate_files/AZpop2010.csv\", header = [3])"
   ]
  },
  {
   "cell_type": "code",
   "execution_count": 6,
   "metadata": {},
   "outputs": [],
   "source": [
    "def clean_pop(df1,df2):\n",
    "    df1 = df1.drop([\"Unnamed: 1\", \"2000\", \"2001\", \"2002\", \"Unnamed: 12\", \"Unnamed: 13\"], axis=1)\n",
    "    df1 = df1.rename(columns={\"Unnamed: 0\": \"County\"})\n",
    "    df2 = df2.drop([\"Census\", \"Estimates Base\", \"2016\", \"2017\", \"2018\", \"2019\"], axis=1)\n",
    "    df2 = df2.rename(columns={\"Unnamed: 0\": \"County\"})\n",
    "    df1.drop(df1.head(1).index, inplace=True)\n",
    "    df1.drop(df1.tail(8).index, inplace=True)\n",
    "    df2.drop(df2.head(1).index, inplace=True)\n",
    "    df2.drop(df2.tail(5).index, inplace=True)\n",
    "    df1[\"County\"] = df1[\"County\"].str[1:]\n",
    "    df2[\"County\"] = df2[\"County\"].str[1:]\n",
    "    df1 = df1.melt(id_vars=[\"County\"])\n",
    "    df1 = df1.rename(columns={\"variable\": \"Year\", \"value\": \"Population\"})\n",
    "    df1 = df1.groupby([\"Year\", \"County\"], as_index=False).sum()\n",
    "    df2 = df2.melt(id_vars=[\"County\"])\n",
    "    df2 = df2.rename(columns={\"variable\": \"Year\", \"value\": \"Population\"})\n",
    "    df2 = df2.groupby([\"Year\", \"County\"], as_index=False).sum()\n",
    "    df2[[\"County1\", \"State\"]] = df2.County.str.split(\", \", expand=True)\n",
    "    df2 = df2.drop([\"County\", \"State\"], axis=1)\n",
    "    df2 = df2.rename(columns={\"County1\": \"County\"})\n",
    "    df_concat = pd.concat([df1,df2],ignore_index=True)\n",
    "    return df_concat"
   ]
  },
  {
   "cell_type": "code",
   "execution_count": 13,
   "metadata": {},
   "outputs": [],
   "source": [
    "AZ_total_pop = clean_pop(AZ_pre_policy, AZ_post_policy)"
   ]
  },
  {
   "cell_type": "code",
   "execution_count": 14,
   "metadata": {},
   "outputs": [],
   "source": [
    "\n",
    "AZ_shipment = pd.read_csv('./20_intermediate_files/arcos-az-statewide-itemized.csv.gz',  compression='gzip', usecols = use_cols,\n",
    "                chunksize = 1000000,\n",
    "                error_bad_lines=False)"
   ]
  },
  {
   "cell_type": "code",
   "execution_count": 16,
   "metadata": {},
   "outputs": [],
   "source": [
    "df1 = pd.DataFrame()\n",
    "\n",
    "for i in AZ_shipment:\n",
    "    a = pd.DataFrame(i)\n",
    "    df1 = df1.append(a)"
   ]
  },
  {
   "cell_type": "code",
   "execution_count": 20,
   "metadata": {},
   "outputs": [],
   "source": [
    "df1['TRANSACTION_YEAR'] = df1['TRANSACTION_DATE'].astype(str).str[-4:] #get the year from this column\n",
    "        \n",
    "df1['CALC_BASE_WT_IN_MG'] = df1['CALC_BASE_WT_IN_GM'] * 1000 # convert to milligrams\n",
    "\n",
    "df1['MORPHINE_EQUIV_IN_MG'] = df1['CALC_BASE_WT_IN_MG'] * df1['MME_Conversion_Factor']\n",
    "\n",
    "\n",
    "\n",
    "final_shipments_AZ = df1[[\"TRANSACTION_YEAR\", \"BUYER_STATE\", \"BUYER_COUNTY\", \"MORPHINE_EQUIV_IN_MG\"]]\n",
    "\n",
    "final_shipments_AZ = final_shipments_AZ.rename(columns={\"BUYER_COUNTY\": \"County\", \"TRANSACTION_YEAR\":\"Year\"})\n",
    "\n",
    "final_shipments_AZ[[\"Year\"]] = final_shipments_AZ[\"Year\"].astype(int)"
   ]
  },
  {
   "cell_type": "code",
   "execution_count": 21,
   "metadata": {},
   "outputs": [],
   "source": [
    "AZ_total_pop[\"County\"] = AZ_total_pop[\"County\"].str.upper() #make entire column upper case \n",
    "AZ_total_pop['County'] = AZ_total_pop['County'].astype(str).str[:-7] # remove \"county\" from county name "
   ]
  },
  {
   "cell_type": "code",
   "execution_count": 22,
   "metadata": {},
   "outputs": [],
   "source": [
    "final_shipments_AZ['County'] = final_shipments_AZ['County'].astype(str)\n",
    "AZ_total_pop['County'] = AZ_total_pop['County'].astype(str)\n",
    "\n",
    "AZ_total_pop['Year'] = AZ_total_pop['Year'].astype(int)\n",
    "final_shipments_AZ['Year'] = final_shipments_AZ['Year'].astype(int)"
   ]
  },
  {
   "cell_type": "code",
   "execution_count": 24,
   "metadata": {},
   "outputs": [
    {
     "data": {
      "text/html": [
       "<div>\n",
       "<style scoped>\n",
       "    .dataframe tbody tr th:only-of-type {\n",
       "        vertical-align: middle;\n",
       "    }\n",
       "\n",
       "    .dataframe tbody tr th {\n",
       "        vertical-align: top;\n",
       "    }\n",
       "\n",
       "    .dataframe thead th {\n",
       "        text-align: right;\n",
       "    }\n",
       "</style>\n",
       "<table border=\"1\" class=\"dataframe\">\n",
       "  <thead>\n",
       "    <tr style=\"text-align: right;\">\n",
       "      <th></th>\n",
       "      <th>Year</th>\n",
       "      <th>BUYER_STATE</th>\n",
       "      <th>County</th>\n",
       "      <th>MORPHINE_EQUIV_IN_MG</th>\n",
       "      <th>Population</th>\n",
       "    </tr>\n",
       "  </thead>\n",
       "  <tbody>\n",
       "    <tr>\n",
       "      <th>0</th>\n",
       "      <td>2009</td>\n",
       "      <td>AZ</td>\n",
       "      <td>MARICOPA</td>\n",
       "      <td>121.080</td>\n",
       "      <td>3,803,779</td>\n",
       "    </tr>\n",
       "    <tr>\n",
       "      <th>1</th>\n",
       "      <td>2008</td>\n",
       "      <td>AZ</td>\n",
       "      <td>MARICOPA</td>\n",
       "      <td>3632.400</td>\n",
       "      <td>3,771,061</td>\n",
       "    </tr>\n",
       "    <tr>\n",
       "      <th>2</th>\n",
       "      <td>2009</td>\n",
       "      <td>AZ</td>\n",
       "      <td>MARICOPA</td>\n",
       "      <td>2724.300</td>\n",
       "      <td>3,803,779</td>\n",
       "    </tr>\n",
       "    <tr>\n",
       "      <th>3</th>\n",
       "      <td>2009</td>\n",
       "      <td>AZ</td>\n",
       "      <td>MARICOPA</td>\n",
       "      <td>908.100</td>\n",
       "      <td>3,803,779</td>\n",
       "    </tr>\n",
       "    <tr>\n",
       "      <th>4</th>\n",
       "      <td>2010</td>\n",
       "      <td>AZ</td>\n",
       "      <td>MARICOPA</td>\n",
       "      <td>1816.200</td>\n",
       "      <td>3,825,110</td>\n",
       "    </tr>\n",
       "    <tr>\n",
       "      <th>...</th>\n",
       "      <td>...</td>\n",
       "      <td>...</td>\n",
       "      <td>...</td>\n",
       "      <td>...</td>\n",
       "      <td>...</td>\n",
       "    </tr>\n",
       "    <tr>\n",
       "      <th>5078737</th>\n",
       "      <td>2013</td>\n",
       "      <td>AZ</td>\n",
       "      <td>MARICOPA</td>\n",
       "      <td>6051.375</td>\n",
       "      <td>4,017,723</td>\n",
       "    </tr>\n",
       "    <tr>\n",
       "      <th>5078738</th>\n",
       "      <td>2009</td>\n",
       "      <td>AZ</td>\n",
       "      <td>GREENLEE</td>\n",
       "      <td>12102.750</td>\n",
       "      <td>8,635</td>\n",
       "    </tr>\n",
       "    <tr>\n",
       "      <th>5078739</th>\n",
       "      <td>2009</td>\n",
       "      <td>AZ</td>\n",
       "      <td>PIMA</td>\n",
       "      <td>201712.500</td>\n",
       "      <td>975,580</td>\n",
       "    </tr>\n",
       "    <tr>\n",
       "      <th>5078740</th>\n",
       "      <td>2009</td>\n",
       "      <td>AZ</td>\n",
       "      <td>PIMA</td>\n",
       "      <td>6723.750</td>\n",
       "      <td>975,580</td>\n",
       "    </tr>\n",
       "    <tr>\n",
       "      <th>5078741</th>\n",
       "      <td>2009</td>\n",
       "      <td>AZ</td>\n",
       "      <td>PIMA</td>\n",
       "      <td>12102.750</td>\n",
       "      <td>975,580</td>\n",
       "    </tr>\n",
       "  </tbody>\n",
       "</table>\n",
       "<p>5078742 rows × 5 columns</p>\n",
       "</div>"
      ],
      "text/plain": [
       "         Year BUYER_STATE    County  MORPHINE_EQUIV_IN_MG Population\n",
       "0        2009          AZ  MARICOPA               121.080  3,803,779\n",
       "1        2008          AZ  MARICOPA              3632.400  3,771,061\n",
       "2        2009          AZ  MARICOPA              2724.300  3,803,779\n",
       "3        2009          AZ  MARICOPA               908.100  3,803,779\n",
       "4        2010          AZ  MARICOPA              1816.200  3,825,110\n",
       "...       ...         ...       ...                   ...        ...\n",
       "5078737  2013          AZ  MARICOPA              6051.375  4,017,723\n",
       "5078738  2009          AZ  GREENLEE             12102.750      8,635\n",
       "5078739  2009          AZ      PIMA            201712.500    975,580\n",
       "5078740  2009          AZ      PIMA              6723.750    975,580\n",
       "5078741  2009          AZ      PIMA             12102.750    975,580\n",
       "\n",
       "[5078742 rows x 5 columns]"
      ]
     },
     "execution_count": 24,
     "metadata": {},
     "output_type": "execute_result"
    }
   ],
   "source": [
    "mergeddf = final_shipments_AZ.merge(AZ_total_pop, on= [\"Year\", \"County\"],  how='left')\n",
    "mergeddf"
   ]
  },
  {
   "cell_type": "code",
   "execution_count": 25,
   "metadata": {},
   "outputs": [],
   "source": [
    "mergeddf.to_csv(r\"/Users/dapoadegbile/estimating-impact-of-opioids-2020-team2/20_intermediate_files/AZ_shipment_and_pop.csv\")"
   ]
  },
  {
   "cell_type": "code",
   "execution_count": null,
   "metadata": {},
   "outputs": [],
   "source": []
  }
 ],
 "metadata": {
  "kernelspec": {
   "display_name": "Python 3",
   "language": "python",
   "name": "python3"
  },
  "language_info": {
   "codemirror_mode": {
    "name": "ipython",
    "version": 3
   },
   "file_extension": ".py",
   "mimetype": "text/x-python",
   "name": "python",
   "nbconvert_exporter": "python",
   "pygments_lexer": "ipython3",
   "version": "3.8.3"
  }
 },
 "nbformat": 4,
 "nbformat_minor": 4
}

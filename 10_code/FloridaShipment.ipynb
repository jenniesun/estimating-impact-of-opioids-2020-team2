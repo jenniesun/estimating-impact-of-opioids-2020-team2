{
 "cells": [
  {
   "cell_type": "code",
   "execution_count": 1,
   "metadata": {},
   "outputs": [],
   "source": [
    "import numpy as np\n",
    "import pandas as pd \n",
    "\n"
   ]
  },
  {
   "cell_type": "code",
   "execution_count": 2,
   "metadata": {},
   "outputs": [],
   "source": [
    "use_cols = [\"BUYER_STATE\",\"BUYER_COUNTY\",\"DRUG_CODE\",\"QUANTITY\",\"UNIT\",\"CALC_BASE_WT_IN_GM\",\"DOSAGE_UNIT\",\"TRANSACTION_ID\",\"Measure\",\"dos_str\",\"TRANSACTION_DATE\"]"
   ]
  },
  {
   "cell_type": "code",
   "execution_count": 3,
   "metadata": {},
   "outputs": [],
   "source": [
    "import pandas as pd\n",
    "df = pd.read_csv('/Users/dapoadegbile/Desktop/720Python/arcos-fl-statewide-itemized.csv.gz',  compression='gzip', usecols = use_cols,\n",
    "                chunksize = 1000000,\n",
    "                error_bad_lines=False)"
   ]
  },
  {
   "cell_type": "code",
   "execution_count": 4,
   "metadata": {},
   "outputs": [
    {
     "data": {
      "text/plain": [
       "<pandas.io.parsers.TextFileReader at 0x12213c610>"
      ]
     },
     "execution_count": 4,
     "metadata": {},
     "output_type": "execute_result"
    }
   ],
   "source": [
    "df"
   ]
  },
  {
   "cell_type": "code",
   "execution_count": 5,
   "metadata": {},
   "outputs": [],
   "source": [
    "df1 = pd.DataFrame()\n",
    "for i in df:\n",
    "    a = pd.DataFrame(i)\n",
    "    df1 = df1.append(a)\n",
    "\n",
    "# for d,i in df.iterrows():\n",
    "#     print(d)\n",
    "#     break\n"
   ]
  },
  {
   "cell_type": "code",
   "execution_count": 6,
   "metadata": {},
   "outputs": [
    {
     "data": {
      "text/html": [
       "<div>\n",
       "<style scoped>\n",
       "    .dataframe tbody tr th:only-of-type {\n",
       "        vertical-align: middle;\n",
       "    }\n",
       "\n",
       "    .dataframe tbody tr th {\n",
       "        vertical-align: top;\n",
       "    }\n",
       "\n",
       "    .dataframe thead th {\n",
       "        text-align: right;\n",
       "    }\n",
       "</style>\n",
       "<table border=\"1\" class=\"dataframe\">\n",
       "  <thead>\n",
       "    <tr style=\"text-align: right;\">\n",
       "      <th></th>\n",
       "      <th>BUYER_STATE</th>\n",
       "      <th>BUYER_COUNTY</th>\n",
       "      <th>DRUG_CODE</th>\n",
       "      <th>QUANTITY</th>\n",
       "      <th>UNIT</th>\n",
       "      <th>TRANSACTION_DATE</th>\n",
       "      <th>CALC_BASE_WT_IN_GM</th>\n",
       "      <th>DOSAGE_UNIT</th>\n",
       "      <th>TRANSACTION_ID</th>\n",
       "      <th>Measure</th>\n",
       "      <th>dos_str</th>\n",
       "    </tr>\n",
       "  </thead>\n",
       "  <tbody>\n",
       "    <tr>\n",
       "      <th>0</th>\n",
       "      <td>FL</td>\n",
       "      <td>PALM BEACH</td>\n",
       "      <td>9143</td>\n",
       "      <td>1.0</td>\n",
       "      <td>NaN</td>\n",
       "      <td>8182006</td>\n",
       "      <td>3.5860</td>\n",
       "      <td>100.0</td>\n",
       "      <td>4912</td>\n",
       "      <td>TAB</td>\n",
       "      <td>40.0</td>\n",
       "    </tr>\n",
       "    <tr>\n",
       "      <th>1</th>\n",
       "      <td>FL</td>\n",
       "      <td>PALM BEACH</td>\n",
       "      <td>9143</td>\n",
       "      <td>8.0</td>\n",
       "      <td>NaN</td>\n",
       "      <td>11292006</td>\n",
       "      <td>7.1720</td>\n",
       "      <td>800.0</td>\n",
       "      <td>9219</td>\n",
       "      <td>TAB</td>\n",
       "      <td>10.0</td>\n",
       "    </tr>\n",
       "    <tr>\n",
       "      <th>2</th>\n",
       "      <td>FL</td>\n",
       "      <td>PALM BEACH</td>\n",
       "      <td>9143</td>\n",
       "      <td>3.0</td>\n",
       "      <td>NaN</td>\n",
       "      <td>2062007</td>\n",
       "      <td>21.5160</td>\n",
       "      <td>300.0</td>\n",
       "      <td>1819</td>\n",
       "      <td>TAB</td>\n",
       "      <td>80.0</td>\n",
       "    </tr>\n",
       "    <tr>\n",
       "      <th>3</th>\n",
       "      <td>FL</td>\n",
       "      <td>PALM BEACH</td>\n",
       "      <td>9143</td>\n",
       "      <td>3.0</td>\n",
       "      <td>NaN</td>\n",
       "      <td>3012007</td>\n",
       "      <td>21.5160</td>\n",
       "      <td>300.0</td>\n",
       "      <td>281</td>\n",
       "      <td>TAB</td>\n",
       "      <td>80.0</td>\n",
       "    </tr>\n",
       "    <tr>\n",
       "      <th>4</th>\n",
       "      <td>FL</td>\n",
       "      <td>PALM BEACH</td>\n",
       "      <td>9143</td>\n",
       "      <td>6.0</td>\n",
       "      <td>NaN</td>\n",
       "      <td>4162007</td>\n",
       "      <td>5.3790</td>\n",
       "      <td>600.0</td>\n",
       "      <td>5390</td>\n",
       "      <td>TAB</td>\n",
       "      <td>10.0</td>\n",
       "    </tr>\n",
       "    <tr>\n",
       "      <th>...</th>\n",
       "      <td>...</td>\n",
       "      <td>...</td>\n",
       "      <td>...</td>\n",
       "      <td>...</td>\n",
       "      <td>...</td>\n",
       "      <td>...</td>\n",
       "      <td>...</td>\n",
       "      <td>...</td>\n",
       "      <td>...</td>\n",
       "      <td>...</td>\n",
       "      <td>...</td>\n",
       "    </tr>\n",
       "    <tr>\n",
       "      <th>15104978</th>\n",
       "      <td>FL</td>\n",
       "      <td>HILLSBOROUGH</td>\n",
       "      <td>9143</td>\n",
       "      <td>100.0</td>\n",
       "      <td>NaN</td>\n",
       "      <td>12042008</td>\n",
       "      <td>268.9500</td>\n",
       "      <td>10000.0</td>\n",
       "      <td>1658</td>\n",
       "      <td>TAB</td>\n",
       "      <td>30.0</td>\n",
       "    </tr>\n",
       "    <tr>\n",
       "      <th>15104979</th>\n",
       "      <td>FL</td>\n",
       "      <td>HILLSBOROUGH</td>\n",
       "      <td>9193</td>\n",
       "      <td>1.0</td>\n",
       "      <td>NaN</td>\n",
       "      <td>8132009</td>\n",
       "      <td>3.0270</td>\n",
       "      <td>500.0</td>\n",
       "      <td>3025</td>\n",
       "      <td>TAB</td>\n",
       "      <td>10.0</td>\n",
       "    </tr>\n",
       "    <tr>\n",
       "      <th>15104980</th>\n",
       "      <td>FL</td>\n",
       "      <td>HILLSBOROUGH</td>\n",
       "      <td>9193</td>\n",
       "      <td>5.0</td>\n",
       "      <td>NaN</td>\n",
       "      <td>12302009</td>\n",
       "      <td>1.5135</td>\n",
       "      <td>500.0</td>\n",
       "      <td>4947</td>\n",
       "      <td>TAB</td>\n",
       "      <td>5.0</td>\n",
       "    </tr>\n",
       "    <tr>\n",
       "      <th>15104981</th>\n",
       "      <td>FL</td>\n",
       "      <td>HILLSBOROUGH</td>\n",
       "      <td>9143</td>\n",
       "      <td>25.0</td>\n",
       "      <td>NaN</td>\n",
       "      <td>3182010</td>\n",
       "      <td>67.2375</td>\n",
       "      <td>2500.0</td>\n",
       "      <td>3310</td>\n",
       "      <td>TAB</td>\n",
       "      <td>30.0</td>\n",
       "    </tr>\n",
       "    <tr>\n",
       "      <th>15104982</th>\n",
       "      <td>FL</td>\n",
       "      <td>HILLSBOROUGH</td>\n",
       "      <td>9143</td>\n",
       "      <td>48.0</td>\n",
       "      <td>NaN</td>\n",
       "      <td>3022011</td>\n",
       "      <td>129.0960</td>\n",
       "      <td>4800.0</td>\n",
       "      <td>872</td>\n",
       "      <td>TAB</td>\n",
       "      <td>30.0</td>\n",
       "    </tr>\n",
       "  </tbody>\n",
       "</table>\n",
       "<p>15104983 rows × 11 columns</p>\n",
       "</div>"
      ],
      "text/plain": [
       "         BUYER_STATE  BUYER_COUNTY  DRUG_CODE  QUANTITY  UNIT  \\\n",
       "0                 FL    PALM BEACH       9143       1.0   NaN   \n",
       "1                 FL    PALM BEACH       9143       8.0   NaN   \n",
       "2                 FL    PALM BEACH       9143       3.0   NaN   \n",
       "3                 FL    PALM BEACH       9143       3.0   NaN   \n",
       "4                 FL    PALM BEACH       9143       6.0   NaN   \n",
       "...              ...           ...        ...       ...   ...   \n",
       "15104978          FL  HILLSBOROUGH       9143     100.0   NaN   \n",
       "15104979          FL  HILLSBOROUGH       9193       1.0   NaN   \n",
       "15104980          FL  HILLSBOROUGH       9193       5.0   NaN   \n",
       "15104981          FL  HILLSBOROUGH       9143      25.0   NaN   \n",
       "15104982          FL  HILLSBOROUGH       9143      48.0   NaN   \n",
       "\n",
       "          TRANSACTION_DATE  CALC_BASE_WT_IN_GM  DOSAGE_UNIT  TRANSACTION_ID  \\\n",
       "0                  8182006              3.5860        100.0            4912   \n",
       "1                 11292006              7.1720        800.0            9219   \n",
       "2                  2062007             21.5160        300.0            1819   \n",
       "3                  3012007             21.5160        300.0             281   \n",
       "4                  4162007              5.3790        600.0            5390   \n",
       "...                    ...                 ...          ...             ...   \n",
       "15104978          12042008            268.9500      10000.0            1658   \n",
       "15104979           8132009              3.0270        500.0            3025   \n",
       "15104980          12302009              1.5135        500.0            4947   \n",
       "15104981           3182010             67.2375       2500.0            3310   \n",
       "15104982           3022011            129.0960       4800.0             872   \n",
       "\n",
       "         Measure  dos_str  \n",
       "0            TAB     40.0  \n",
       "1            TAB     10.0  \n",
       "2            TAB     80.0  \n",
       "3            TAB     80.0  \n",
       "4            TAB     10.0  \n",
       "...          ...      ...  \n",
       "15104978     TAB     30.0  \n",
       "15104979     TAB     10.0  \n",
       "15104980     TAB      5.0  \n",
       "15104981     TAB     30.0  \n",
       "15104982     TAB     30.0  \n",
       "\n",
       "[15104983 rows x 11 columns]"
      ]
     },
     "execution_count": 6,
     "metadata": {},
     "output_type": "execute_result"
    }
   ],
   "source": [
    "df1"
   ]
  },
  {
   "cell_type": "code",
   "execution_count": 56,
   "metadata": {},
   "outputs": [
    {
     "data": {
      "text/plain": [
       "5996524"
      ]
     },
     "execution_count": 56,
     "metadata": {},
     "output_type": "execute_result"
    }
   ],
   "source": [
    "df1['TRANSACTION_ID'].nunique()"
   ]
  },
  {
   "cell_type": "code",
   "execution_count": 87,
   "metadata": {},
   "outputs": [
    {
     "data": {
      "text/plain": [
       "0           2006\n",
       "1           2006\n",
       "2           2007\n",
       "3           2007\n",
       "4           2007\n",
       "            ... \n",
       "15104978    2008\n",
       "15104979    2009\n",
       "15104980    2009\n",
       "15104981    2010\n",
       "15104982    2011\n",
       "Name: TRANSACTION_DATE, Length: 15104983, dtype: object"
      ]
     },
     "execution_count": 87,
     "metadata": {},
     "output_type": "execute_result"
    }
   ],
   "source": [
    "from datetime import datetime\n",
    "\n",
    "df1['TRANSACTION_DATE'].astype(str).str[-4:]\n",
    "\n",
    "\n",
    "\n",
    " "
   ]
  },
  {
   "cell_type": "code",
   "execution_count": null,
   "metadata": {},
   "outputs": [],
   "source": []
  },
  {
   "cell_type": "code",
   "execution_count": null,
   "metadata": {},
   "outputs": [],
   "source": [
    "station_list = []\n",
    "for i in df:\n",
    "    stations = i[i[‘id’].isin(station_ids)]\n",
    "    if stations.empty:# Drop the empty dataframe, only keep the chunk with valid entries\n",
    "        continue\n",
    "    else:\n",
    "        station_list.append(stations)\n",
    "# Unlist and convert to df\n",
    "df1 = pd.DataFrame()\n",
    "for i in station_list:\n",
    "    a = pd.DataFrame(i)\n",
    "    df1 = df1.append(a)"
   ]
  }
 ],
 "metadata": {
  "kernelspec": {
   "display_name": "Python 3",
   "language": "python",
   "name": "python3"
  },
  "language_info": {
   "codemirror_mode": {
    "name": "ipython",
    "version": 3
   },
   "file_extension": ".py",
   "mimetype": "text/x-python",
   "name": "python",
   "nbconvert_exporter": "python",
   "pygments_lexer": "ipython3",
   "version": "3.8.3"
  }
 },
 "nbformat": 4,
 "nbformat_minor": 4
}

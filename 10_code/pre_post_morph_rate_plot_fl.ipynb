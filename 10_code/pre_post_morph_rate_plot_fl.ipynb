{
 "cells": [
  {
   "cell_type": "code",
   "execution_count": 2,
   "metadata": {},
   "outputs": [],
   "source": [
    "%load_ext lab_black\n",
    "import pandas as pd\n",
    "import matplotlib.pyplot as plt\n",
    "import numpy as np\n",
    "import seaborn as sns"
   ]
  },
  {
   "cell_type": "code",
   "execution_count": 3,
   "metadata": {},
   "outputs": [],
   "source": [
    "# load shipment rate data\n",
    "import warnings\n",
    "\n",
    "warnings.filterwarnings(\"ignore\")\n",
    "\n",
    "fl_morph_rate = pd.read_csv(\n",
    "    \"./estimating-impact-of-opioids-2020-team2/20_intermediate_files/FL_shipment_and_pop.csv\",\n",
    "    sep=\",\",\n",
    "    index_col=0,\n",
    ")"
   ]
  },
  {
   "cell_type": "code",
   "execution_count": 6,
   "metadata": {},
   "outputs": [],
   "source": [
    "fl_morph_rate = fl_morph_rate.drop([\"MORPH_POP_RATIO\"], axis=1)\n",
    "fl_morph_rate[\"MORPH_POP_RATIO\"] = (\n",
    "    fl_morph_rate[\"MORPHINE_EQUIV_IN_MG\"] / fl_morph_rate[\"Population\"]\n",
    ")"
   ]
  },
  {
   "cell_type": "code",
   "execution_count": 8,
   "metadata": {},
   "outputs": [
    {
     "data": {
      "text/html": [
       "<div>\n",
       "<style scoped>\n",
       "    .dataframe tbody tr th:only-of-type {\n",
       "        vertical-align: middle;\n",
       "    }\n",
       "\n",
       "    .dataframe tbody tr th {\n",
       "        vertical-align: top;\n",
       "    }\n",
       "\n",
       "    .dataframe thead th {\n",
       "        text-align: right;\n",
       "    }\n",
       "</style>\n",
       "<table border=\"1\" class=\"dataframe\">\n",
       "  <thead>\n",
       "    <tr style=\"text-align: right;\">\n",
       "      <th></th>\n",
       "      <th>Year</th>\n",
       "      <th>BUYER_STATE</th>\n",
       "      <th>County</th>\n",
       "      <th>MORPHINE_EQUIV_IN_MG</th>\n",
       "      <th>Population</th>\n",
       "      <th>MORPH_POP_RATIO</th>\n",
       "    </tr>\n",
       "  </thead>\n",
       "  <tbody>\n",
       "    <tr>\n",
       "      <th>15104978</th>\n",
       "      <td>2008</td>\n",
       "      <td>FL</td>\n",
       "      <td>HILLSBOROUGH</td>\n",
       "      <td>403425.00</td>\n",
       "      <td>1196773.0</td>\n",
       "      <td>0.337094</td>\n",
       "    </tr>\n",
       "    <tr>\n",
       "      <th>15104979</th>\n",
       "      <td>2009</td>\n",
       "      <td>FL</td>\n",
       "      <td>HILLSBOROUGH</td>\n",
       "      <td>3027.00</td>\n",
       "      <td>1214050.0</td>\n",
       "      <td>0.002493</td>\n",
       "    </tr>\n",
       "    <tr>\n",
       "      <th>15104980</th>\n",
       "      <td>2009</td>\n",
       "      <td>FL</td>\n",
       "      <td>HILLSBOROUGH</td>\n",
       "      <td>1513.50</td>\n",
       "      <td>1214050.0</td>\n",
       "      <td>0.001247</td>\n",
       "    </tr>\n",
       "    <tr>\n",
       "      <th>15104981</th>\n",
       "      <td>2010</td>\n",
       "      <td>FL</td>\n",
       "      <td>HILLSBOROUGH</td>\n",
       "      <td>100856.25</td>\n",
       "      <td>1233498.0</td>\n",
       "      <td>0.081764</td>\n",
       "    </tr>\n",
       "    <tr>\n",
       "      <th>15104982</th>\n",
       "      <td>2011</td>\n",
       "      <td>FL</td>\n",
       "      <td>HILLSBOROUGH</td>\n",
       "      <td>193644.00</td>\n",
       "      <td>1255503.0</td>\n",
       "      <td>0.154236</td>\n",
       "    </tr>\n",
       "  </tbody>\n",
       "</table>\n",
       "</div>"
      ],
      "text/plain": [
       "          Year BUYER_STATE        County  MORPHINE_EQUIV_IN_MG  Population  \\\n",
       "15104978  2008          FL  HILLSBOROUGH             403425.00   1196773.0   \n",
       "15104979  2009          FL  HILLSBOROUGH               3027.00   1214050.0   \n",
       "15104980  2009          FL  HILLSBOROUGH               1513.50   1214050.0   \n",
       "15104981  2010          FL  HILLSBOROUGH             100856.25   1233498.0   \n",
       "15104982  2011          FL  HILLSBOROUGH             193644.00   1255503.0   \n",
       "\n",
       "          MORPH_POP_RATIO  \n",
       "15104978         0.337094  \n",
       "15104979         0.002493  \n",
       "15104980         0.001247  \n",
       "15104981         0.081764  \n",
       "15104982         0.154236  "
      ]
     },
     "execution_count": 8,
     "metadata": {},
     "output_type": "execute_result"
    }
   ],
   "source": [
    "fl_morph_rate.tail()"
   ]
  },
  {
   "cell_type": "code",
   "execution_count": 9,
   "metadata": {},
   "outputs": [],
   "source": [
    "fl_morph_rate_by_county = fl_morph_rate.groupby(\n",
    "    [\"Year\", \"BUYER_STATE\", \"County\"], as_index=False\n",
    ")[\"MORPH_POP_RATIO\"].mean()"
   ]
  },
  {
   "cell_type": "code",
   "execution_count": 10,
   "metadata": {},
   "outputs": [
    {
     "data": {
      "text/html": [
       "<div>\n",
       "<style scoped>\n",
       "    .dataframe tbody tr th:only-of-type {\n",
       "        vertical-align: middle;\n",
       "    }\n",
       "\n",
       "    .dataframe tbody tr th {\n",
       "        vertical-align: top;\n",
       "    }\n",
       "\n",
       "    .dataframe thead th {\n",
       "        text-align: right;\n",
       "    }\n",
       "</style>\n",
       "<table border=\"1\" class=\"dataframe\">\n",
       "  <thead>\n",
       "    <tr style=\"text-align: right;\">\n",
       "      <th></th>\n",
       "      <th>Year</th>\n",
       "      <th>BUYER_STATE</th>\n",
       "      <th>County</th>\n",
       "      <th>MORPH_POP_RATIO</th>\n",
       "    </tr>\n",
       "  </thead>\n",
       "  <tbody>\n",
       "    <tr>\n",
       "      <th>0</th>\n",
       "      <td>2006</td>\n",
       "      <td>FL</td>\n",
       "      <td>ALACHUA</td>\n",
       "      <td>0.016083</td>\n",
       "    </tr>\n",
       "    <tr>\n",
       "      <th>1</th>\n",
       "      <td>2006</td>\n",
       "      <td>FL</td>\n",
       "      <td>BAKER</td>\n",
       "      <td>0.159267</td>\n",
       "    </tr>\n",
       "    <tr>\n",
       "      <th>2</th>\n",
       "      <td>2006</td>\n",
       "      <td>FL</td>\n",
       "      <td>BAY</td>\n",
       "      <td>0.017898</td>\n",
       "    </tr>\n",
       "    <tr>\n",
       "      <th>3</th>\n",
       "      <td>2006</td>\n",
       "      <td>FL</td>\n",
       "      <td>BRADFORD</td>\n",
       "      <td>0.134981</td>\n",
       "    </tr>\n",
       "    <tr>\n",
       "      <th>4</th>\n",
       "      <td>2006</td>\n",
       "      <td>FL</td>\n",
       "      <td>BREVARD</td>\n",
       "      <td>0.006493</td>\n",
       "    </tr>\n",
       "    <tr>\n",
       "      <th>...</th>\n",
       "      <td>...</td>\n",
       "      <td>...</td>\n",
       "      <td>...</td>\n",
       "      <td>...</td>\n",
       "    </tr>\n",
       "    <tr>\n",
       "      <th>595</th>\n",
       "      <td>2014</td>\n",
       "      <td>FL</td>\n",
       "      <td>UNION</td>\n",
       "      <td>0.301418</td>\n",
       "    </tr>\n",
       "    <tr>\n",
       "      <th>596</th>\n",
       "      <td>2014</td>\n",
       "      <td>FL</td>\n",
       "      <td>VOLUSIA</td>\n",
       "      <td>0.009910</td>\n",
       "    </tr>\n",
       "    <tr>\n",
       "      <th>597</th>\n",
       "      <td>2014</td>\n",
       "      <td>FL</td>\n",
       "      <td>WAKULLA</td>\n",
       "      <td>0.134534</td>\n",
       "    </tr>\n",
       "    <tr>\n",
       "      <th>598</th>\n",
       "      <td>2014</td>\n",
       "      <td>FL</td>\n",
       "      <td>WALTON</td>\n",
       "      <td>0.083631</td>\n",
       "    </tr>\n",
       "    <tr>\n",
       "      <th>599</th>\n",
       "      <td>2014</td>\n",
       "      <td>FL</td>\n",
       "      <td>WASHINGTON</td>\n",
       "      <td>0.291461</td>\n",
       "    </tr>\n",
       "  </tbody>\n",
       "</table>\n",
       "<p>600 rows × 4 columns</p>\n",
       "</div>"
      ],
      "text/plain": [
       "     Year BUYER_STATE      County  MORPH_POP_RATIO\n",
       "0    2006          FL     ALACHUA         0.016083\n",
       "1    2006          FL       BAKER         0.159267\n",
       "2    2006          FL         BAY         0.017898\n",
       "3    2006          FL    BRADFORD         0.134981\n",
       "4    2006          FL     BREVARD         0.006493\n",
       "..    ...         ...         ...              ...\n",
       "595  2014          FL       UNION         0.301418\n",
       "596  2014          FL     VOLUSIA         0.009910\n",
       "597  2014          FL     WAKULLA         0.134534\n",
       "598  2014          FL      WALTON         0.083631\n",
       "599  2014          FL  WASHINGTON         0.291461\n",
       "\n",
       "[600 rows x 4 columns]"
      ]
     },
     "execution_count": 10,
     "metadata": {},
     "output_type": "execute_result"
    }
   ],
   "source": [
    "fl_morph_rate_by_county"
   ]
  },
  {
   "cell_type": "code",
   "execution_count": null,
   "metadata": {},
   "outputs": [],
   "source": []
  },
  {
   "cell_type": "markdown",
   "metadata": {},
   "source": [
    "### Plot Pre-Post Policy for Florida"
   ]
  },
  {
   "cell_type": "code",
   "execution_count": 7,
   "metadata": {},
   "outputs": [],
   "source": [
    "pre = fl_morph_rate[fl_morph_rate[\"Year\"] < 2010]"
   ]
  },
  {
   "cell_type": "code",
   "execution_count": 9,
   "metadata": {},
   "outputs": [
    {
     "data": {
      "text/plain": [
       "count     6628328\n",
       "unique         67\n",
       "top       BROWARD\n",
       "freq       575310\n",
       "Name: County, dtype: object"
      ]
     },
     "execution_count": 9,
     "metadata": {},
     "output_type": "execute_result"
    }
   ],
   "source": [
    "pre[\"County\"].describe()"
   ]
  },
  {
   "cell_type": "code",
   "execution_count": 10,
   "metadata": {},
   "outputs": [],
   "source": [
    "post = fl_morph_rate[fl_morph_rate[\"Year\"] >= 2010]"
   ]
  },
  {
   "cell_type": "code",
   "execution_count": 11,
   "metadata": {},
   "outputs": [
    {
     "data": {
      "text/plain": [
       "count     8476639\n",
       "unique         67\n",
       "top       BROWARD\n",
       "freq       671623\n",
       "Name: County, dtype: object"
      ]
     },
     "execution_count": 11,
     "metadata": {},
     "output_type": "execute_result"
    }
   ],
   "source": [
    "post[\"County\"].describe()"
   ]
  },
  {
   "cell_type": "code",
   "execution_count": 25,
   "metadata": {},
   "outputs": [],
   "source": [
    "post_pop = post.groupby([\"Year\", \"BUYER_STATE\", \"County\"], as_index=False)[\n",
    "    \"Population\"\n",
    "].sum()"
   ]
  },
  {
   "cell_type": "code",
   "execution_count": 26,
   "metadata": {},
   "outputs": [
    {
     "data": {
      "text/plain": [
       "Year\n",
       "2010    1.457810e+12\n",
       "2011    1.435977e+12\n",
       "2012    1.340370e+12\n",
       "2013    1.383552e+12\n",
       "2014    1.190045e+12\n",
       "Name: Population, dtype: float64"
      ]
     },
     "execution_count": 26,
     "metadata": {},
     "output_type": "execute_result"
    }
   ],
   "source": [
    "post.groupby([\"Year\"])[\"Population\"].sum()"
   ]
  },
  {
   "cell_type": "code",
   "execution_count": 13,
   "metadata": {},
   "outputs": [
    {
     "data": {
      "text/plain": [
       "count    6.469686e+06\n",
       "mean     1.747875e-02\n",
       "std      6.860913e-02\n",
       "min      1.149798e-07\n",
       "25%      1.356760e-03\n",
       "50%      3.707759e-03\n",
       "75%      1.151275e-02\n",
       "max      2.352885e+01\n",
       "Name: MORPH_POP_RATIO, dtype: float64"
      ]
     },
     "execution_count": 13,
     "metadata": {},
     "output_type": "execute_result"
    }
   ],
   "source": [
    "pre[\"MORPH_POP_RATIO\"].describe()"
   ]
  },
  {
   "cell_type": "code",
   "execution_count": 9,
   "metadata": {},
   "outputs": [],
   "source": [
    "fl_pre_policy = fl_morph_rate_by_county[fl_morph_rate_by_county[\"Year\"] < 2010]"
   ]
  },
  {
   "cell_type": "code",
   "execution_count": 15,
   "metadata": {},
   "outputs": [],
   "source": [
    "fl_post_policy = fl_morph_rate_by_county[fl_morph_rate_by_county[\"Year\"] >= 2010]"
   ]
  },
  {
   "cell_type": "code",
   "execution_count": 16,
   "metadata": {
    "collapsed": true,
    "jupyter": {
     "outputs_hidden": true
    }
   },
   "outputs": [
    {
     "data": {
      "text/plain": [
       "count    320.000000\n",
       "mean       0.111930\n",
       "std        0.192143\n",
       "min        0.001743\n",
       "25%        0.015763\n",
       "50%        0.054430\n",
       "75%        0.151641\n",
       "max        2.221451\n",
       "Name: MORPH_POP_RATIO, dtype: float64"
      ]
     },
     "execution_count": 16,
     "metadata": {},
     "output_type": "execute_result"
    }
   ],
   "source": [
    "fl_post_policy[\"MORPH_POP_RATIO\"].describe()"
   ]
  },
  {
   "cell_type": "code",
   "execution_count": null,
   "metadata": {},
   "outputs": [],
   "source": []
  },
  {
   "cell_type": "code",
   "execution_count": 6,
   "metadata": {},
   "outputs": [],
   "source": [
    "# seperate to pre and post policy periods for FL\n",
    "\n",
    "x_pre = np.array(\n",
    "    fl_morph_rate_by_county[fl_morph_rate_by_county[\"Year\"] < 2010][\"Year\"]\n",
    ")\n",
    "y_pre = np.array(\n",
    "    fl_morph_rate_by_county[fl_morph_rate_by_county[\"Year\"] < 2010][\"MORPH_POP_RATIO\"]\n",
    ")\n",
    "\n",
    "x_post = np.array(\n",
    "    fl_morph_rate_by_county[fl_morph_rate_by_county[\"Year\"] >= 2010][\"Year\"]\n",
    ")\n",
    "y_post = np.array(\n",
    "    fl_morph_rate_by_county[fl_morph_rate_by_county[\"Year\"] >= 2010][\"MORPH_POP_RATIO\"]\n",
    ")"
   ]
  },
  {
   "cell_type": "code",
   "execution_count": 7,
   "metadata": {},
   "outputs": [
    {
     "data": {
      "image/png": "[encoded data removed]",
      "text/plain": [
       "<Figure size 432x288 with 1 Axes>"
      ]
     },
     "metadata": {
      "needs_background": "light"
     },
     "output_type": "display_data"
    }
   ],
   "source": [
    "import warnings\n",
    "\n",
    "warnings.filterwarnings(\"ignore\")\n",
    "\n",
    "# plot the figure\n",
    "\n",
    "# fig, ax = plt.subplots()\n",
    "# ax.plot(x_pre, y_pre, \"o\")\n",
    "m, b = np.polyfit(x_pre, y_pre, 1)\n",
    "plt.plot(x_pre, m * x_pre + b)\n",
    "ax = sns.regplot(x_pre, y_pre, ci=95, scatter=False)\n",
    "\n",
    "# ax.plot(x_post, y_post, \"o\")\n",
    "m, b = np.polyfit(x_post, y_post, 1)\n",
    "plt.plot(x_post, m * x_post + b)\n",
    "ax = sns.regplot(x_post, y_post, ci=95, scatter=False)\n",
    "\n",
    "plt.xlabel(\"Year\")\n",
    "plt.ylabel(\"Morphine Pop Ratio\")\n",
    "plt.title(\"FL Pre-Post Model Graph\")\n",
    "plt.axvline(x=2010, color=\"black\", ls=\":\")\n",
    "plt.text(2007.9, 0.06, \"Policy Change\", fontsize=12)\n",
    "plt.text(2006.2, 0.165, \"CI:95%\", fontsize=10)\n",
    "plt.grid(b=True, which=\"major\", color=\"#999999\", linestyle=\"-\", alpha=0.2)\n",
    "\n",
    "plt.show()"
   ]
  }
 ],
 "metadata": {
  "kernelspec": {
   "display_name": "Python 3",
   "language": "python",
   "name": "python3"
  },
  "language_info": {
   "codemirror_mode": {
    "name": "ipython",
    "version": 3
   },
   "file_extension": ".py",
   "mimetype": "text/x-python",
   "name": "python",
   "nbconvert_exporter": "python",
   "pygments_lexer": "ipython3",
   "version": "3.7.6"
  }
 },
 "nbformat": 4,
 "nbformat_minor": 4
}

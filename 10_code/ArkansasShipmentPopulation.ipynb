{
 "cells": [
  {
   "cell_type": "code",
   "execution_count": 1,
   "metadata": {},
   "outputs": [],
   "source": [
    "import numpy as np\n",
    "import pandas as pd "
   ]
  },
  {
   "cell_type": "code",
   "execution_count": 2,
   "metadata": {},
   "outputs": [
    {
     "data": {
      "text/plain": [
       "'/Users/dapoadegbile/estimating-impact-of-opioids-2020-team2'"
      ]
     },
     "execution_count": 2,
     "metadata": {},
     "output_type": "execute_result"
    }
   ],
   "source": [
    "use_cols = [\"BUYER_STATE\",\"BUYER_COUNTY\", \"CALC_BASE_WT_IN_GM\", \"MME_Conversion_Factor\",\"TRANSACTION_DATE\", \"DRUG_NAME\"]\n",
    "import os\n",
    "os.chdir('/Users/dapoadegbile/estimating-impact-of-opioids-2020-team2')\n",
    "os.getcwd()\n"
   ]
  },
  {
   "cell_type": "code",
   "execution_count": 3,
   "metadata": {},
   "outputs": [],
   "source": [
    "AR_pre_policy = pd.read_csv(\"./20_intermediate_files/ARpop2000.csv\", header = [3])\n",
    "AR_post_policy = pd.read_csv(\"./20_intermediate_files/ARpop2010.csv\", header = [3])"
   ]
  },
  {
   "cell_type": "code",
   "execution_count": 4,
   "metadata": {},
   "outputs": [],
   "source": [
    "def clean_pop(df1,df2):\n",
    "    df1 = df1.drop([\"Unnamed: 1\", \"2000\", \"2001\", \"2002\", \"Unnamed: 12\", \"Unnamed: 13\"], axis=1)\n",
    "    df1 = df1.rename(columns={\"Unnamed: 0\": \"County\"})\n",
    "    df2 = df2.drop([\"Census\", \"Estimates Base\", \"2016\", \"2017\", \"2018\", \"2019\"], axis=1)\n",
    "    df2 = df2.rename(columns={\"Unnamed: 0\": \"County\"})\n",
    "    df1.drop(df1.head(1).index, inplace=True)\n",
    "    df1.drop(df1.tail(8).index, inplace=True)\n",
    "    df2.drop(df2.head(1).index, inplace=True)\n",
    "    df2.drop(df2.tail(5).index, inplace=True)\n",
    "    df1[\"County\"] = df1[\"County\"].str[1:]\n",
    "    df2[\"County\"] = df2[\"County\"].str[1:]\n",
    "    df1 = df1.melt(id_vars=[\"County\"])\n",
    "    df1 = df1.rename(columns={\"variable\": \"Year\", \"value\": \"Population\"})\n",
    "    df1 = df1.groupby([\"Year\", \"County\"], as_index=False).sum()\n",
    "    df2 = df2.melt(id_vars=[\"County\"])\n",
    "    df2 = df2.rename(columns={\"variable\": \"Year\", \"value\": \"Population\"})\n",
    "    df2 = df2.groupby([\"Year\", \"County\"], as_index=False).sum()\n",
    "    df2[[\"County1\", \"State\"]] = df2.County.str.split(\", \", expand=True)\n",
    "    df2 = df2.drop([\"County\", \"State\"], axis=1)\n",
    "    df2 = df2.rename(columns={\"County1\": \"County\"})\n",
    "    df_concat = pd.concat([df1,df2],ignore_index=True)\n",
    "    return df_concat"
   ]
  },
  {
   "cell_type": "code",
   "execution_count": 5,
   "metadata": {},
   "outputs": [],
   "source": [
    "AR_total_pop = clean_pop(AR_pre_policy, AR_post_policy)"
   ]
  },
  {
   "cell_type": "code",
   "execution_count": 6,
   "metadata": {},
   "outputs": [],
   "source": [
    "\n",
    "AR_shipment = pd.read_csv('./20_intermediate_files/arcos-ar-statewide-itemized.csv.gz',  compression='gzip', usecols = use_cols,\n",
    "                chunksize = 1000000,\n",
    "                error_bad_lines=False)"
   ]
  },
  {
   "cell_type": "code",
   "execution_count": 7,
   "metadata": {},
   "outputs": [],
   "source": [
    "df1 = pd.DataFrame()\n",
    "\n",
    "for i in AR_shipment:\n",
    "    a = pd.DataFrame(i)\n",
    "    df1 = df1.append(a)"
   ]
  },
  {
   "cell_type": "code",
   "execution_count": 8,
   "metadata": {},
   "outputs": [],
   "source": [
    "df1['TRANSACTION_YEAR'] = df1['TRANSACTION_DATE'].astype(str).str[-4:] #get the year from this column\n",
    "        \n",
    "df1['CALC_BASE_WT_IN_MG'] = df1['CALC_BASE_WT_IN_GM'] * 1000 # convert to milligrams\n",
    "\n",
    "df1['MORPHINE_EQUIV_IN_MG'] = df1['CALC_BASE_WT_IN_MG'] * df1['MME_Conversion_Factor']\n",
    "\n",
    "\n",
    "\n",
    "final_shipments_AR = df1[[\"TRANSACTION_YEAR\", \"BUYER_STATE\", \"BUYER_COUNTY\", \"MORPHINE_EQUIV_IN_MG\"]]\n",
    "\n",
    "final_shipments_AR = final_shipments_AR.rename(columns={\"BUYER_COUNTY\": \"County\", \"TRANSACTION_YEAR\":\"Year\"})\n",
    "\n",
    "final_shipments_AR[[\"Year\"]] = final_shipments_AR[\"Year\"].astype(int)"
   ]
  },
  {
   "cell_type": "code",
   "execution_count": 9,
   "metadata": {},
   "outputs": [],
   "source": [
    "AR_total_pop[\"County\"] = AR_total_pop[\"County\"].str.upper() #make entire column upper case \n",
    "AR_total_pop['County'] = AR_total_pop['County'].astype(str).str[:-7] # remove \"county\" from county name "
   ]
  },
  {
   "cell_type": "code",
   "execution_count": 10,
   "metadata": {},
   "outputs": [],
   "source": [
    "final_shipments_AR['County'] = final_shipments_AR['County'].astype(str)\n",
    "AR_total_pop['County'] = AR_total_pop['County'].astype(str)\n",
    "\n",
    "AR_total_pop['Year'] = AR_total_pop['Year'].astype(int)\n",
    "final_shipments_AR['Year'] = final_shipments_AR['Year'].astype(int)"
   ]
  },
  {
   "cell_type": "code",
   "execution_count": 11,
   "metadata": {},
   "outputs": [
    {
     "data": {
      "text/html": [
       "<div>\n",
       "<style scoped>\n",
       "    .dataframe tbody tr th:only-of-type {\n",
       "        vertical-align: middle;\n",
       "    }\n",
       "\n",
       "    .dataframe tbody tr th {\n",
       "        vertical-align: top;\n",
       "    }\n",
       "\n",
       "    .dataframe thead th {\n",
       "        text-align: right;\n",
       "    }\n",
       "</style>\n",
       "<table border=\"1\" class=\"dataframe\">\n",
       "  <thead>\n",
       "    <tr style=\"text-align: right;\">\n",
       "      <th></th>\n",
       "      <th>Year</th>\n",
       "      <th>BUYER_STATE</th>\n",
       "      <th>County</th>\n",
       "      <th>MORPHINE_EQUIV_IN_MG</th>\n",
       "      <th>Population</th>\n",
       "    </tr>\n",
       "  </thead>\n",
       "  <tbody>\n",
       "    <tr>\n",
       "      <th>0</th>\n",
       "      <td>2006</td>\n",
       "      <td>AR</td>\n",
       "      <td>SEBASTIAN</td>\n",
       "      <td>64548.000</td>\n",
       "      <td>121,492</td>\n",
       "    </tr>\n",
       "    <tr>\n",
       "      <th>1</th>\n",
       "      <td>2007</td>\n",
       "      <td>AR</td>\n",
       "      <td>CLARK</td>\n",
       "      <td>908.100</td>\n",
       "      <td>23,139</td>\n",
       "    </tr>\n",
       "    <tr>\n",
       "      <th>2</th>\n",
       "      <td>2006</td>\n",
       "      <td>AR</td>\n",
       "      <td>IZARD</td>\n",
       "      <td>21516.000</td>\n",
       "      <td>13,583</td>\n",
       "    </tr>\n",
       "    <tr>\n",
       "      <th>3</th>\n",
       "      <td>2014</td>\n",
       "      <td>AR</td>\n",
       "      <td>SCOTT</td>\n",
       "      <td>3027.000</td>\n",
       "      <td>10,686</td>\n",
       "    </tr>\n",
       "    <tr>\n",
       "      <th>4</th>\n",
       "      <td>2008</td>\n",
       "      <td>AR</td>\n",
       "      <td>CRAWFORD</td>\n",
       "      <td>454.050</td>\n",
       "      <td>60,933</td>\n",
       "    </tr>\n",
       "    <tr>\n",
       "      <th>...</th>\n",
       "      <td>...</td>\n",
       "      <td>...</td>\n",
       "      <td>...</td>\n",
       "      <td>...</td>\n",
       "      <td>...</td>\n",
       "    </tr>\n",
       "    <tr>\n",
       "      <th>3378141</th>\n",
       "      <td>2012</td>\n",
       "      <td>AR</td>\n",
       "      <td>SEBASTIAN</td>\n",
       "      <td>2689.500</td>\n",
       "      <td>127,571</td>\n",
       "    </tr>\n",
       "    <tr>\n",
       "      <th>3378142</th>\n",
       "      <td>2012</td>\n",
       "      <td>AR</td>\n",
       "      <td>SEBASTIAN</td>\n",
       "      <td>672.375</td>\n",
       "      <td>127,571</td>\n",
       "    </tr>\n",
       "    <tr>\n",
       "      <th>3378143</th>\n",
       "      <td>2012</td>\n",
       "      <td>AR</td>\n",
       "      <td>SEBASTIAN</td>\n",
       "      <td>1513.500</td>\n",
       "      <td>127,571</td>\n",
       "    </tr>\n",
       "    <tr>\n",
       "      <th>3378144</th>\n",
       "      <td>2012</td>\n",
       "      <td>AR</td>\n",
       "      <td>SEBASTIAN</td>\n",
       "      <td>1344.750</td>\n",
       "      <td>127,571</td>\n",
       "    </tr>\n",
       "    <tr>\n",
       "      <th>3378145</th>\n",
       "      <td>2014</td>\n",
       "      <td>AR</td>\n",
       "      <td>SEBASTIAN</td>\n",
       "      <td>908.100</td>\n",
       "      <td>126,733</td>\n",
       "    </tr>\n",
       "  </tbody>\n",
       "</table>\n",
       "<p>3378146 rows × 5 columns</p>\n",
       "</div>"
      ],
      "text/plain": [
       "         Year BUYER_STATE     County  MORPHINE_EQUIV_IN_MG Population\n",
       "0        2006          AR  SEBASTIAN             64548.000    121,492\n",
       "1        2007          AR      CLARK               908.100     23,139\n",
       "2        2006          AR      IZARD             21516.000     13,583\n",
       "3        2014          AR      SCOTT              3027.000     10,686\n",
       "4        2008          AR   CRAWFORD               454.050     60,933\n",
       "...       ...         ...        ...                   ...        ...\n",
       "3378141  2012          AR  SEBASTIAN              2689.500    127,571\n",
       "3378142  2012          AR  SEBASTIAN               672.375    127,571\n",
       "3378143  2012          AR  SEBASTIAN              1513.500    127,571\n",
       "3378144  2012          AR  SEBASTIAN              1344.750    127,571\n",
       "3378145  2014          AR  SEBASTIAN               908.100    126,733\n",
       "\n",
       "[3378146 rows x 5 columns]"
      ]
     },
     "execution_count": 11,
     "metadata": {},
     "output_type": "execute_result"
    }
   ],
   "source": [
    "mergeddf = final_shipments_AR.merge(AR_total_pop, on= [\"Year\", \"County\"],  how='left')\n",
    "mergeddf"
   ]
  },
  {
   "cell_type": "code",
   "execution_count": 12,
   "metadata": {},
   "outputs": [],
   "source": [
    "mergeddf.to_csv(r\"/Users/dapoadegbile/estimating-impact-of-opioids-2020-team2/20_intermediate_files/AR_shipment_and_pop.csv\")"
   ]
  },
  {
   "cell_type": "code",
   "execution_count": null,
   "metadata": {},
   "outputs": [],
   "source": []
  }
 ],
 "metadata": {
  "kernelspec": {
   "display_name": "Python 3",
   "language": "python",
   "name": "python3"
  },
  "language_info": {
   "codemirror_mode": {
    "name": "ipython",
    "version": 3
   },
   "file_extension": ".py",
   "mimetype": "text/x-python",
   "name": "python",
   "nbconvert_exporter": "python",
   "pygments_lexer": "ipython3",
   "version": "3.8.3"
  }
 },
 "nbformat": 4,
 "nbformat_minor": 4
}

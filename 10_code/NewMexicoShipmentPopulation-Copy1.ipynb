{
 "cells": [
  {
   "cell_type": "code",
   "execution_count": 1,
   "metadata": {},
   "outputs": [],
   "source": [
    "import numpy as np\n",
    "import pandas as pd "
   ]
  },
  {
   "cell_type": "code",
   "execution_count": 2,
   "metadata": {},
   "outputs": [
    {
     "data": {
      "text/plain": [
       "'/Users/dapoadegbile/estimating-impact-of-opioids-2020-team2'"
      ]
     },
     "execution_count": 2,
     "metadata": {},
     "output_type": "execute_result"
    }
   ],
   "source": [
    "use_cols = [\"BUYER_STATE\",\"BUYER_COUNTY\", \"CALC_BASE_WT_IN_GM\", \"MME_Conversion_Factor\",\"TRANSACTION_DATE\", \"DRUG_NAME\"]\n",
    "import os\n",
    "os.chdir('/Users/dapoadegbile/estimating-impact-of-opioids-2020-team2')\n",
    "os.getcwd()\n"
   ]
  },
  {
   "cell_type": "code",
   "execution_count": 3,
   "metadata": {},
   "outputs": [],
   "source": [
    "NM_pre_policy = pd.read_csv(\"./20_intermediate_files/NMpop2000.csv\", header = [3])\n",
    "NM_post_policy = pd.read_csv(\"./20_intermediate_files/NMpop2010.csv\", header = [3])"
   ]
  },
  {
   "cell_type": "code",
   "execution_count": 4,
   "metadata": {},
   "outputs": [],
   "source": [
    "def clean_pop(df1,df2):\n",
    "    df1 = df1.drop([\"Unnamed: 1\", \"2000\", \"2001\", \"2002\", \"Unnamed: 12\", \"Unnamed: 13\"], axis=1)\n",
    "    df1 = df1.rename(columns={\"Unnamed: 0\": \"County\"})\n",
    "    df2 = df2.drop([\"Census\", \"Estimates Base\", \"2016\", \"2017\", \"2018\", \"2019\"], axis=1)\n",
    "    df2 = df2.rename(columns={\"Unnamed: 0\": \"County\"})\n",
    "    df1.drop(df1.head(1).index, inplace=True)\n",
    "    df1.drop(df1.tail(8).index, inplace=True)\n",
    "    df2.drop(df2.head(1).index, inplace=True)\n",
    "    df2.drop(df2.tail(5).index, inplace=True)\n",
    "    df1[\"County\"] = df1[\"County\"].str[1:]\n",
    "    df2[\"County\"] = df2[\"County\"].str[1:]\n",
    "    df1 = df1.melt(id_vars=[\"County\"])\n",
    "    df1 = df1.rename(columns={\"variable\": \"Year\", \"value\": \"Population\"})\n",
    "    df1 = df1.groupby([\"Year\", \"County\"], as_index=False).sum()\n",
    "    df2 = df2.melt(id_vars=[\"County\"])\n",
    "    df2 = df2.rename(columns={\"variable\": \"Year\", \"value\": \"Population\"})\n",
    "    df2 = df2.groupby([\"Year\", \"County\"], as_index=False).sum()\n",
    "    df2[[\"County1\", \"State\"]] = df2.County.str.split(\", \", expand=True)\n",
    "    df2 = df2.drop([\"County\", \"State\"], axis=1)\n",
    "    df2 = df2.rename(columns={\"County1\": \"County\"})\n",
    "    df_concat = pd.concat([df1,df2],ignore_index=True)\n",
    "    return df_concat"
   ]
  },
  {
   "cell_type": "code",
   "execution_count": 5,
   "metadata": {},
   "outputs": [],
   "source": [
    "NM_total_pop = clean_pop(NM_pre_policy, NM_post_policy)"
   ]
  },
  {
   "cell_type": "code",
   "execution_count": 6,
   "metadata": {},
   "outputs": [],
   "source": [
    "\n",
    "NM_shipment = pd.read_csv('./20_intermediate_files/arcos-nm-statewide-itemized.csv.gz',  compression='gzip', usecols = use_cols,\n",
    "                chunksize = 1000000,\n",
    "                error_bad_lines=False)"
   ]
  },
  {
   "cell_type": "code",
   "execution_count": 7,
   "metadata": {},
   "outputs": [],
   "source": [
    "df1 = pd.DataFrame()\n",
    "\n",
    "for i in NM_shipment:\n",
    "    a = pd.DataFrame(i)\n",
    "    df1 = df1.append(a)"
   ]
  },
  {
   "cell_type": "code",
   "execution_count": 8,
   "metadata": {},
   "outputs": [],
   "source": [
    "df1['TRANSACTION_YEAR'] = df1['TRANSACTION_DATE'].astype(str).str[-4:] #get the year from this column\n",
    "        \n",
    "df1['CALC_BASE_WT_IN_MG'] = df1['CALC_BASE_WT_IN_GM'] * 1000 # convert to milligrams\n",
    "\n",
    "df1['MORPHINE_EQUIV_IN_MG'] = df1['CALC_BASE_WT_IN_MG'] * df1['MME_Conversion_Factor']\n",
    "\n",
    "\n",
    "\n",
    "final_shipments_NM = df1[[\"TRANSACTION_YEAR\", \"BUYER_STATE\", \"BUYER_COUNTY\", \"MORPHINE_EQUIV_IN_MG\"]]\n",
    "\n",
    "final_shipments_NM = final_shipments_NM.rename(columns={\"BUYER_COUNTY\": \"County\", \"TRANSACTION_YEAR\":\"Year\"})\n",
    "\n",
    "final_shipments_NM[[\"Year\"]] = final_shipments_NM[\"Year\"].astype(int)"
   ]
  },
  {
   "cell_type": "code",
   "execution_count": 9,
   "metadata": {},
   "outputs": [],
   "source": [
    "NM_total_pop[\"County\"] = NM_total_pop[\"County\"].str.upper() #make entire column upper case \n",
    "NM_total_pop['County'] = NM_total_pop['County'].astype(str).str[:-7] # remove \"county\" from county name "
   ]
  },
  {
   "cell_type": "code",
   "execution_count": 10,
   "metadata": {},
   "outputs": [],
   "source": [
    "final_shipments_NM['County'] = final_shipments_NM['County'].astype(str)\n",
    "NM_total_pop['County'] = NM_total_pop['County'].astype(str)\n",
    "\n",
    "NM_total_pop['Year'] = NM_total_pop['Year'].astype(int)\n",
    "final_shipments_NM['Year'] = final_shipments_NM['Year'].astype(int)"
   ]
  },
  {
   "cell_type": "code",
   "execution_count": 11,
   "metadata": {},
   "outputs": [
    {
     "data": {
      "text/html": [
       "<div>\n",
       "<style scoped>\n",
       "    .dataframe tbody tr th:only-of-type {\n",
       "        vertical-align: middle;\n",
       "    }\n",
       "\n",
       "    .dataframe tbody tr th {\n",
       "        vertical-align: top;\n",
       "    }\n",
       "\n",
       "    .dataframe thead th {\n",
       "        text-align: right;\n",
       "    }\n",
       "</style>\n",
       "<table border=\"1\" class=\"dataframe\">\n",
       "  <thead>\n",
       "    <tr style=\"text-align: right;\">\n",
       "      <th></th>\n",
       "      <th>Year</th>\n",
       "      <th>BUYER_STATE</th>\n",
       "      <th>County</th>\n",
       "      <th>MORPHINE_EQUIV_IN_MG</th>\n",
       "      <th>Population</th>\n",
       "    </tr>\n",
       "  </thead>\n",
       "  <tbody>\n",
       "    <tr>\n",
       "      <th>0</th>\n",
       "      <td>2014</td>\n",
       "      <td>NM</td>\n",
       "      <td>DE BACA</td>\n",
       "      <td>4540.50</td>\n",
       "      <td>1,861</td>\n",
       "    </tr>\n",
       "    <tr>\n",
       "      <th>1</th>\n",
       "      <td>2014</td>\n",
       "      <td>NM</td>\n",
       "      <td>DE BACA</td>\n",
       "      <td>2270.25</td>\n",
       "      <td>1,861</td>\n",
       "    </tr>\n",
       "    <tr>\n",
       "      <th>2</th>\n",
       "      <td>2014</td>\n",
       "      <td>NM</td>\n",
       "      <td>DE BACA</td>\n",
       "      <td>3027.00</td>\n",
       "      <td>1,861</td>\n",
       "    </tr>\n",
       "    <tr>\n",
       "      <th>3</th>\n",
       "      <td>2012</td>\n",
       "      <td>NM</td>\n",
       "      <td>VALENCIA</td>\n",
       "      <td>1513.50</td>\n",
       "      <td>76,789</td>\n",
       "    </tr>\n",
       "    <tr>\n",
       "      <th>4</th>\n",
       "      <td>2014</td>\n",
       "      <td>NM</td>\n",
       "      <td>VALENCIA</td>\n",
       "      <td>3027.00</td>\n",
       "      <td>75,892</td>\n",
       "    </tr>\n",
       "    <tr>\n",
       "      <th>...</th>\n",
       "      <td>...</td>\n",
       "      <td>...</td>\n",
       "      <td>...</td>\n",
       "      <td>...</td>\n",
       "      <td>...</td>\n",
       "    </tr>\n",
       "    <tr>\n",
       "      <th>1540142</th>\n",
       "      <td>2009</td>\n",
       "      <td>NM</td>\n",
       "      <td>DONA ANA</td>\n",
       "      <td>24205.50</td>\n",
       "      <td>205,401</td>\n",
       "    </tr>\n",
       "    <tr>\n",
       "      <th>1540143</th>\n",
       "      <td>2006</td>\n",
       "      <td>NM</td>\n",
       "      <td>BERNALILLO</td>\n",
       "      <td>1513.50</td>\n",
       "      <td>628,632</td>\n",
       "    </tr>\n",
       "    <tr>\n",
       "      <th>1540144</th>\n",
       "      <td>2009</td>\n",
       "      <td>NM</td>\n",
       "      <td>OTERO</td>\n",
       "      <td>3027.00</td>\n",
       "      <td>62,462</td>\n",
       "    </tr>\n",
       "    <tr>\n",
       "      <th>1540145</th>\n",
       "      <td>2007</td>\n",
       "      <td>NM</td>\n",
       "      <td>DONA ANA</td>\n",
       "      <td>302.70</td>\n",
       "      <td>197,853</td>\n",
       "    </tr>\n",
       "    <tr>\n",
       "      <th>1540146</th>\n",
       "      <td>2012</td>\n",
       "      <td>NM</td>\n",
       "      <td>BERNALILLO</td>\n",
       "      <td>6054.00</td>\n",
       "      <td>673,615</td>\n",
       "    </tr>\n",
       "  </tbody>\n",
       "</table>\n",
       "<p>1540147 rows × 5 columns</p>\n",
       "</div>"
      ],
      "text/plain": [
       "         Year BUYER_STATE      County  MORPHINE_EQUIV_IN_MG Population\n",
       "0        2014          NM     DE BACA               4540.50      1,861\n",
       "1        2014          NM     DE BACA               2270.25      1,861\n",
       "2        2014          NM     DE BACA               3027.00      1,861\n",
       "3        2012          NM    VALENCIA               1513.50     76,789\n",
       "4        2014          NM    VALENCIA               3027.00     75,892\n",
       "...       ...         ...         ...                   ...        ...\n",
       "1540142  2009          NM    DONA ANA              24205.50    205,401\n",
       "1540143  2006          NM  BERNALILLO               1513.50    628,632\n",
       "1540144  2009          NM       OTERO               3027.00     62,462\n",
       "1540145  2007          NM    DONA ANA                302.70    197,853\n",
       "1540146  2012          NM  BERNALILLO               6054.00    673,615\n",
       "\n",
       "[1540147 rows x 5 columns]"
      ]
     },
     "execution_count": 11,
     "metadata": {},
     "output_type": "execute_result"
    }
   ],
   "source": [
    "mergeddf = final_shipments_NM.merge(NM_total_pop, on= [\"Year\", \"County\"],  how='left')\n",
    "mergeddf"
   ]
  },
  {
   "cell_type": "code",
   "execution_count": 12,
   "metadata": {},
   "outputs": [],
   "source": [
    "mergeddf.to_csv(r\"/Users/dapoadegbile/estimating-impact-of-opioids-2020-team2/20_intermediate_files/NM_shipment_and_pop.csv\")"
   ]
  },
  {
   "cell_type": "code",
   "execution_count": null,
   "metadata": {},
   "outputs": [],
   "source": []
  },
  {
   "cell_type": "code",
   "execution_count": null,
   "metadata": {},
   "outputs": [],
   "source": []
  }
 ],
 "metadata": {
  "kernelspec": {
   "display_name": "Python 3",
   "language": "python",
   "name": "python3"
  },
  "language_info": {
   "codemirror_mode": {
    "name": "ipython",
    "version": 3
   },
   "file_extension": ".py",
   "mimetype": "text/x-python",
   "name": "python",
   "nbconvert_exporter": "python",
   "pygments_lexer": "ipython3",
   "version": "3.8.3"
  }
 },
 "nbformat": 4,
 "nbformat_minor": 4
}

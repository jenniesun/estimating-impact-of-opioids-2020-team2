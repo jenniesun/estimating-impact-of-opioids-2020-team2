{
 "cells": [
  {
   "cell_type": "code",
   "execution_count": 1,
   "metadata": {},
   "outputs": [],
   "source": [
    "import pandas as pd\n",
    "from cleaningFunctions import *\n",
    "import os.path\n",
    "from os import path"
   ]
  },
  {
   "cell_type": "code",
   "execution_count": 2,
   "metadata": {},
   "outputs": [],
   "source": [
    "# Function that reads in population data from 00_source\n",
    "# base_state_abbr must be uppercase (eg. FL for Florida)\n",
    "# state_abbr must be lowercase (eg. fl for Florida)\n",
    "def read_state_population(base_state_abbr, state_abbr):\n",
    "    root_path = '../00_Source/Population/' + base_state_abbr + '_and_comparison_states/' + state_abbr\n",
    "    path00_1 = root_path + '_pop_2000-2009.xls'\n",
    "    path00_2 = root_path + '_pop_2000-2009.xlsx'\n",
    "    if path.exists(path00_1):\n",
    "        state00 = pd.read_excel(path00_1, header=[3])\n",
    "    elif path.exists(path00_2):\n",
    "        state00 = pd.read_excel(path00_2, header=[3])\n",
    "        \n",
    "    path10_1 = root_path + '_pop_2010-2019.xls'\n",
    "    path10_2 = root_path + '_pop_2010-2019.xlsx'\n",
    "    if path.exists(path10_1):\n",
    "        state10 = pd.read_excel(path10_1, header=[3])\n",
    "    elif path.exists(path10_2):\n",
    "        state10 = pd.read_excel(path10_2, header=[3])\n",
    "    return state00, state10"
   ]
  },
  {
   "cell_type": "code",
   "execution_count": 3,
   "metadata": {},
   "outputs": [],
   "source": [
    "# Load Mortality data from 2003 to 2015\n",
    "base_path = \"../00_source/US_VitalStatistics/Underlying Cause of Death, \"\n",
    "years_data = []\n",
    "for i in range(2003, 2016):\n",
    "    file_path = base_path + str(i) + \".txt\"\n",
    "    death_data = pd.read_csv(file_path, error_bad_lines=False, sep=\"\\t\",)\n",
    "    years_data.append(death_data)"
   ]
  },
  {
   "cell_type": "code",
   "execution_count": 4,
   "metadata": {},
   "outputs": [],
   "source": [
    "df_raw_mortality = pd.concat(years_data,ignore_index=True)"
   ]
  },
  {
   "cell_type": "code",
   "execution_count": 5,
   "metadata": {},
   "outputs": [],
   "source": [
    "# function that automates the three steps: cleaning population, cleaning mortality, merging\n",
    "# returns a merged dataset\n",
    "# basestate_abbr must be uppercase. state_abbr must be lowercase\n",
    "def create_merged_from_raw(basestate_abbr, state_abbr, df_raw_mortality):\n",
    "    state00pop, state10pop = read_state_population(basestate_abbr, state_abbr)\n",
    "    state_pop = clean_pop(state00pop,state10pop)\n",
    "    state_mortality = clean_mortality(df_raw_mortality, state_abbr.upper())\n",
    "    state_merged = merge_mortalitypop(state_mortality, state_pop)\n",
    "    return state_merged"
   ]
  },
  {
   "cell_type": "markdown",
   "metadata": {},
   "source": [
    "# States Compared to FL"
   ]
  },
  {
   "cell_type": "markdown",
   "metadata": {},
   "source": [
    "## Data Cleaning for Arkansas"
   ]
  },
  {
   "cell_type": "code",
   "execution_count": 6,
   "metadata": {},
   "outputs": [],
   "source": [
    "ar_merged = create_merged_from_raw('FL', 'ar', df_raw_mortality)"
   ]
  },
  {
   "cell_type": "markdown",
   "metadata": {},
   "source": [
    "## Data Cleaning for PA"
   ]
  },
  {
   "cell_type": "code",
   "execution_count": 7,
   "metadata": {},
   "outputs": [],
   "source": [
    "pa_merged = create_merged_from_raw('FL', 'pa', df_raw_mortality)"
   ]
  },
  {
   "cell_type": "markdown",
   "metadata": {},
   "source": [
    "## Data Cleaning for NM"
   ]
  },
  {
   "cell_type": "code",
   "execution_count": 8,
   "metadata": {},
   "outputs": [],
   "source": [
    "nm_merged = create_merged_from_raw('FL', 'nm', df_raw_mortality)"
   ]
  },
  {
   "cell_type": "markdown",
   "metadata": {},
   "source": [
    "# States Compared to TX"
   ]
  },
  {
   "cell_type": "markdown",
   "metadata": {},
   "source": [
    "## Data Cleaning for CO"
   ]
  },
  {
   "cell_type": "code",
   "execution_count": 9,
   "metadata": {},
   "outputs": [],
   "source": [
    "co_merged = create_merged_from_raw('TX', 'co', df_raw_mortality)"
   ]
  },
  {
   "cell_type": "markdown",
   "metadata": {},
   "source": [
    "## Data Cleaning for ID"
   ]
  },
  {
   "cell_type": "code",
   "execution_count": 10,
   "metadata": {},
   "outputs": [],
   "source": [
    "id_merged = create_merged_from_raw('TX', 'id', df_raw_mortality)"
   ]
  },
  {
   "cell_type": "markdown",
   "metadata": {},
   "source": [
    "## Data Cleaning for MI"
   ]
  },
  {
   "cell_type": "code",
   "execution_count": 11,
   "metadata": {},
   "outputs": [],
   "source": [
    "mi_merged = create_merged_from_raw('TX', 'mi', df_raw_mortality)"
   ]
  },
  {
   "cell_type": "markdown",
   "metadata": {},
   "source": [
    "# States Compared to WA"
   ]
  },
  {
   "cell_type": "markdown",
   "metadata": {},
   "source": [
    "## Data Cleaning for CA"
   ]
  },
  {
   "cell_type": "code",
   "execution_count": 12,
   "metadata": {},
   "outputs": [],
   "source": [
    "ca_merged = create_merged_from_raw('WA', 'ca', df_raw_mortality)"
   ]
  },
  {
   "cell_type": "markdown",
   "metadata": {},
   "source": [
    "## Data Cleaning for NV"
   ]
  },
  {
   "cell_type": "code",
   "execution_count": 13,
   "metadata": {},
   "outputs": [],
   "source": [
    "nv_merged = create_merged_from_raw('WA', 'nv', df_raw_mortality)"
   ]
  },
  {
   "cell_type": "markdown",
   "metadata": {},
   "source": [
    "## Data Cleaning for OR"
   ]
  },
  {
   "cell_type": "code",
   "execution_count": 14,
   "metadata": {},
   "outputs": [],
   "source": [
    "or_merged = create_merged_from_raw('WA', 'or', df_raw_mortality)"
   ]
  },
  {
   "cell_type": "markdown",
   "metadata": {},
   "source": [
    "# Export to csv"
   ]
  },
  {
   "cell_type": "code",
   "execution_count": 15,
   "metadata": {},
   "outputs": [],
   "source": [
    "ar_merged.to_csv(path_or_buf='../20_intermediate_files/ar_mortality.csv', sep=',')"
   ]
  },
  {
   "cell_type": "code",
   "execution_count": 16,
   "metadata": {},
   "outputs": [],
   "source": [
    "pa_merged.to_csv(path_or_buf='../20_intermediate_files/pa_mortality.csv', sep=',')"
   ]
  },
  {
   "cell_type": "code",
   "execution_count": 17,
   "metadata": {},
   "outputs": [],
   "source": [
    "nm_merged.to_csv(path_or_buf='../20_intermediate_files/nm_mortality.csv', sep=',')"
   ]
  },
  {
   "cell_type": "code",
   "execution_count": 18,
   "metadata": {},
   "outputs": [],
   "source": [
    "co_merged.to_csv(path_or_buf='../20_intermediate_files/co_mortality.csv', sep=',')"
   ]
  },
  {
   "cell_type": "code",
   "execution_count": 19,
   "metadata": {},
   "outputs": [],
   "source": [
    "id_merged.to_csv(path_or_buf='../20_intermediate_files/id_mortality.csv', sep=',')"
   ]
  },
  {
   "cell_type": "code",
   "execution_count": 20,
   "metadata": {},
   "outputs": [],
   "source": [
    "mi_merged.to_csv(path_or_buf='../20_intermediate_files/mi_mortality.csv', sep=',')"
   ]
  },
  {
   "cell_type": "code",
   "execution_count": 21,
   "metadata": {},
   "outputs": [],
   "source": [
    "ca_merged.to_csv(path_or_buf='../20_intermediate_files/ca_mortality.csv', sep=',')"
   ]
  },
  {
   "cell_type": "code",
   "execution_count": 22,
   "metadata": {},
   "outputs": [],
   "source": [
    "nv_merged.to_csv(path_or_buf='../20_intermediate_files/nv_mortality.csv', sep=',')"
   ]
  },
  {
   "cell_type": "code",
   "execution_count": 23,
   "metadata": {},
   "outputs": [],
   "source": [
    "or_merged.to_csv(path_or_buf='../20_intermediate_files/or_mortality.csv', sep=',')"
   ]
  },
  {
   "cell_type": "markdown",
   "metadata": {},
   "source": [
    "# Average mortality for three comparison states"
   ]
  },
  {
   "cell_type": "markdown",
   "metadata": {},
   "source": [
    "## Comparison states to FL"
   ]
  },
  {
   "cell_type": "code",
   "execution_count": 24,
   "metadata": {},
   "outputs": [],
   "source": [
    "comparisons_fl = calc_avg_mortality(ar_merged, pa_merged, nm_merged)"
   ]
  },
  {
   "cell_type": "markdown",
   "metadata": {},
   "source": [
    "## Comparison states to TX"
   ]
  },
  {
   "cell_type": "code",
   "execution_count": 25,
   "metadata": {},
   "outputs": [],
   "source": [
    "comparisons_tx = calc_avg_mortality(co_merged, id_merged, mi_merged)"
   ]
  },
  {
   "cell_type": "markdown",
   "metadata": {},
   "source": [
    "## Comparison states to WA"
   ]
  },
  {
   "cell_type": "code",
   "execution_count": 26,
   "metadata": {},
   "outputs": [],
   "source": [
    "comparisons_wa = calc_avg_mortality(ca_merged, nv_merged, or_merged)"
   ]
  },
  {
   "cell_type": "markdown",
   "metadata": {},
   "source": [
    "## Convert to csv"
   ]
  },
  {
   "cell_type": "code",
   "execution_count": 27,
   "metadata": {},
   "outputs": [],
   "source": [
    "comparisons_fl.to_csv(path_or_buf='../20_intermediate_files/avg_mortality_compare_to_fl.csv', sep=',')"
   ]
  },
  {
   "cell_type": "code",
   "execution_count": 28,
   "metadata": {},
   "outputs": [],
   "source": [
    "comparisons_tx.to_csv(path_or_buf='../20_intermediate_files/avg_mortality_compare_to_tx.csv', sep=',')"
   ]
  },
  {
   "cell_type": "code",
   "execution_count": 29,
   "metadata": {},
   "outputs": [],
   "source": [
    "comparisons_wa.to_csv(path_or_buf='../20_intermediate_files/avg_mortality_compare_to_wa.csv', sep=',')"
   ]
  }
 ],
 "metadata": {
  "kernelspec": {
   "display_name": "Python 3",
   "language": "python",
   "name": "python3"
  },
  "language_info": {
   "codemirror_mode": {
    "name": "ipython",
    "version": 3
   },
   "file_extension": ".py",
   "mimetype": "text/x-python",
   "name": "python",
   "nbconvert_exporter": "python",
   "pygments_lexer": "ipython3",
   "version": "3.7.6"
  }
 },
 "nbformat": 4,
 "nbformat_minor": 4
}

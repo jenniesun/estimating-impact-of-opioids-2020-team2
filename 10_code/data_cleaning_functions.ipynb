{
 "cells": [
  {
   "cell_type": "markdown",
   "metadata": {},
   "source": [
    "## Data Cleaning Function"
   ]
  },
  {
   "cell_type": "code",
   "execution_count": 1,
   "metadata": {},
   "outputs": [],
   "source": [
    "import pandas as pd\n",
    "#%load_ext lab_black"
   ]
  },
  {
   "cell_type": "code",
   "execution_count": 2,
   "metadata": {},
   "outputs": [],
   "source": [
    "# load mortality the data\n",
    "\n",
    "death03 = pd.read_csv(\n",
    "    \"../00_Source/US_VitalStatistics/Underlying Cause of Death, 2003.txt\",\n",
    "    error_bad_lines=False,\n",
    "    sep=\"\\t\",\n",
    ")\n",
    "death04 = pd.read_csv(\n",
    "    \"../00_Source/US_VitalStatistics/Underlying Cause of Death, 2004.txt\",\n",
    "    error_bad_lines=False,\n",
    "    sep=\"\\t\",\n",
    ")\n",
    "death05 = pd.read_csv(\n",
    "    \"../00_Source/US_VitalStatistics/Underlying Cause of Death, 2005.txt\",\n",
    "    error_bad_lines=False,\n",
    "    sep=\"\\t\",\n",
    ")\n",
    "death06 = pd.read_csv(\n",
    "    \"../00_Source/US_VitalStatistics/Underlying Cause of Death, 2006.txt\",\n",
    "    error_bad_lines=False,\n",
    "    sep=\"\\t\",\n",
    ")\n",
    "death07 = pd.read_csv(\n",
    "    \"../00_Source/US_VitalStatistics/Underlying Cause of Death, 2007.txt\",\n",
    "    error_bad_lines=False,\n",
    "    sep=\"\\t\",\n",
    ")\n",
    "death08 = pd.read_csv(\n",
    "    \"../00_Source/US_VitalStatistics/Underlying Cause of Death, 2008.txt\",\n",
    "    error_bad_lines=False,\n",
    "    sep=\"\\t\",\n",
    ")\n",
    "death09 = pd.read_csv(\n",
    "    \"../00_Source/US_VitalStatistics/Underlying Cause of Death, 2009.txt\",\n",
    "    error_bad_lines=False,\n",
    "    sep=\"\\t\",\n",
    ")\n",
    "death10 = pd.read_csv(\n",
    "    \"../00_Source/US_VitalStatistics/Underlying Cause of Death, 2010.txt\",\n",
    "    error_bad_lines=False,\n",
    "    sep=\"\\t\",\n",
    ")\n",
    "death11 = pd.read_csv(\n",
    "    \"../00_Source/US_VitalStatistics/Underlying Cause of Death, 2011.txt\",\n",
    "    error_bad_lines=False,\n",
    "    sep=\"\\t\",\n",
    ")\n",
    "death12 = pd.read_csv(\n",
    "    \"../00_Source/US_VitalStatistics/Underlying Cause of Death, 2012.txt\",\n",
    "    error_bad_lines=False,\n",
    "    sep=\"\\t\",\n",
    ")\n",
    "death13 = pd.read_csv(\n",
    "    \"../00_Source/US_VitalStatistics/Underlying Cause of Death, 2013.txt\",\n",
    "    error_bad_lines=False,\n",
    "    sep=\"\\t\",\n",
    ")\n",
    "death14 = pd.read_csv(\n",
    "    \"../00_Source/US_VitalStatistics/Underlying Cause of Death, 2014.txt\",\n",
    "    error_bad_lines=False,\n",
    "    sep=\"\\t\",\n",
    ")\n",
    "death15 = pd.read_csv(\n",
    "    \"../00_Source/US_VitalStatistics/Underlying Cause of Death, 2015.txt\",\n",
    "    error_bad_lines=False,\n",
    "    sep=\"\\t\",\n",
    ")"
   ]
  },
  {
   "cell_type": "code",
   "execution_count": 3,
   "metadata": {},
   "outputs": [],
   "source": [
    "df = pd.concat(\n",
    "    [death03, death04, death05, death06, death07, death08, death09, death10, death11, death12, death13, death14, death15],\n",
    "    ignore_index=True,\n",
    ")"
   ]
  },
  {
   "cell_type": "code",
   "execution_count": 4,
   "metadata": {},
   "outputs": [],
   "source": [
    "def clean_mortality(df, State_Abbr):\n",
    "    df[[\"County1\", \"State\"]] = df.County.str.split(\", \", expand=True)\n",
    "    df = df[df[\"State\"] == State_Abbr]\n",
    "    df = df.drop([\"Notes\", \"County\", \"County Code\", \"Year Code\"], axis=1)\n",
    "    df = df.rename(columns={\"County1\": \"County\"})\n",
    "    df = df[(df[\"Drug/Alcohol Induced Cause Code\"] == \"D1\") | (df[\"Drug/Alcohol Induced Cause Code\"] == \"D2\") | (df[\"Drug/Alcohol Induced Cause Code\"] == \"D4\") | (df[\"Drug/Alcohol Induced Cause Code\"] == \"D9\")]\n",
    "    df[\"Deaths\"] = df[\"Deaths\"].astype(float)\n",
    "    df = df.groupby([\"Year\", \"State\", \"County\"], as_index=False).sum()\n",
    "    df[\"Year\"] = df[\"Year\"].astype(int)\n",
    "    return df"
   ]
  },
  {
   "cell_type": "code",
   "execution_count": 5,
   "metadata": {},
   "outputs": [
    {
     "data": {
      "text/html": [
       "<div>\n",
       "<style scoped>\n",
       "    .dataframe tbody tr th:only-of-type {\n",
       "        vertical-align: middle;\n",
       "    }\n",
       "\n",
       "    .dataframe tbody tr th {\n",
       "        vertical-align: top;\n",
       "    }\n",
       "\n",
       "    .dataframe thead th {\n",
       "        text-align: right;\n",
       "    }\n",
       "</style>\n",
       "<table border=\"1\" class=\"dataframe\">\n",
       "  <thead>\n",
       "    <tr style=\"text-align: right;\">\n",
       "      <th></th>\n",
       "      <th>Year</th>\n",
       "      <th>State</th>\n",
       "      <th>County</th>\n",
       "      <th>Deaths</th>\n",
       "    </tr>\n",
       "  </thead>\n",
       "  <tbody>\n",
       "    <tr>\n",
       "      <th>0</th>\n",
       "      <td>2003</td>\n",
       "      <td>FL</td>\n",
       "      <td>Alachua County</td>\n",
       "      <td>11.0</td>\n",
       "    </tr>\n",
       "    <tr>\n",
       "      <th>1</th>\n",
       "      <td>2003</td>\n",
       "      <td>FL</td>\n",
       "      <td>Bay County</td>\n",
       "      <td>21.0</td>\n",
       "    </tr>\n",
       "    <tr>\n",
       "      <th>2</th>\n",
       "      <td>2003</td>\n",
       "      <td>FL</td>\n",
       "      <td>Brevard County</td>\n",
       "      <td>97.0</td>\n",
       "    </tr>\n",
       "    <tr>\n",
       "      <th>3</th>\n",
       "      <td>2003</td>\n",
       "      <td>FL</td>\n",
       "      <td>Broward County</td>\n",
       "      <td>230.0</td>\n",
       "    </tr>\n",
       "    <tr>\n",
       "      <th>4</th>\n",
       "      <td>2003</td>\n",
       "      <td>FL</td>\n",
       "      <td>Citrus County</td>\n",
       "      <td>16.0</td>\n",
       "    </tr>\n",
       "    <tr>\n",
       "      <th>...</th>\n",
       "      <td>...</td>\n",
       "      <td>...</td>\n",
       "      <td>...</td>\n",
       "      <td>...</td>\n",
       "    </tr>\n",
       "    <tr>\n",
       "      <th>453</th>\n",
       "      <td>2015</td>\n",
       "      <td>FL</td>\n",
       "      <td>Seminole County</td>\n",
       "      <td>63.0</td>\n",
       "    </tr>\n",
       "    <tr>\n",
       "      <th>454</th>\n",
       "      <td>2015</td>\n",
       "      <td>FL</td>\n",
       "      <td>St. Johns County</td>\n",
       "      <td>17.0</td>\n",
       "    </tr>\n",
       "    <tr>\n",
       "      <th>455</th>\n",
       "      <td>2015</td>\n",
       "      <td>FL</td>\n",
       "      <td>St. Lucie County</td>\n",
       "      <td>51.0</td>\n",
       "    </tr>\n",
       "    <tr>\n",
       "      <th>456</th>\n",
       "      <td>2015</td>\n",
       "      <td>FL</td>\n",
       "      <td>Sumter County</td>\n",
       "      <td>12.0</td>\n",
       "    </tr>\n",
       "    <tr>\n",
       "      <th>457</th>\n",
       "      <td>2015</td>\n",
       "      <td>FL</td>\n",
       "      <td>Volusia County</td>\n",
       "      <td>98.0</td>\n",
       "    </tr>\n",
       "  </tbody>\n",
       "</table>\n",
       "<p>458 rows × 4 columns</p>\n",
       "</div>"
      ],
      "text/plain": [
       "     Year State            County  Deaths\n",
       "0    2003    FL    Alachua County    11.0\n",
       "1    2003    FL        Bay County    21.0\n",
       "2    2003    FL    Brevard County    97.0\n",
       "3    2003    FL    Broward County   230.0\n",
       "4    2003    FL     Citrus County    16.0\n",
       "..    ...   ...               ...     ...\n",
       "453  2015    FL   Seminole County    63.0\n",
       "454  2015    FL  St. Johns County    17.0\n",
       "455  2015    FL  St. Lucie County    51.0\n",
       "456  2015    FL     Sumter County    12.0\n",
       "457  2015    FL    Volusia County    98.0\n",
       "\n",
       "[458 rows x 4 columns]"
      ]
     },
     "execution_count": 5,
     "metadata": {},
     "output_type": "execute_result"
    }
   ],
   "source": [
    "mortality = clean_mortality(df, \"FL\")\n",
    "mortality"
   ]
  },
  {
   "cell_type": "code",
   "execution_count": 6,
   "metadata": {},
   "outputs": [],
   "source": [
    "def clean_pop(df1,df2):\n",
    "    df1 = df1.drop([\"Unnamed: 1\", 2000, 2001, 2002, \"Unnamed: 12\", \"Unnamed: 13\"], axis=1)\n",
    "    df1 = df1.rename(columns={\"Unnamed: 0\": \"County\"})\n",
    "    df2 = df2.drop([\"Census\", \"Estimates Base\", 2016, 2017, 2018, 2019], axis=1)\n",
    "    df2 = df2.rename(columns={\"Unnamed: 0\": \"County\"})\n",
    "    df1.drop(df1.head(1).index, inplace=True)\n",
    "    df1.drop(df1.tail(8).index, inplace=True)\n",
    "    df2.drop(df2.head(1).index, inplace=True)\n",
    "    df2.drop(df2.tail(5).index, inplace=True)\n",
    "    df1[\"County\"] = df1[\"County\"].str[1:]\n",
    "    df2[\"County\"] = df2[\"County\"].str[1:]\n",
    "    df1 = df1.melt(id_vars=[\"County\"])\n",
    "    df1 = df1.rename(columns={\"variable\": \"Year\", \"value\": \"Population\"})\n",
    "    df1 = df1.groupby([\"Year\", \"County\"], as_index=False).sum()\n",
    "    df2 = df2.melt(id_vars=[\"County\"])\n",
    "    df2 = df2.rename(columns={\"variable\": \"Year\", \"value\": \"Population\"})\n",
    "    df2 = df2.groupby([\"Year\", \"County\"], as_index=False).sum()\n",
    "    df2[[\"County1\", \"State\"]] = df2.County.str.split(\", \", expand=True)\n",
    "    df2 = df2.drop([\"County\", \"State\"], axis=1)\n",
    "    df2 = df2.rename(columns={\"County1\": \"County\"})\n",
    "    df_concat = pd.concat([df1,df2],ignore_index=True)\n",
    "    return df_concat"
   ]
  },
  {
   "cell_type": "code",
   "execution_count": null,
   "metadata": {},
   "outputs": [],
   "source": [
    "fl_pop_pre_policy = pd.read_excel(\"../00_Source/Population/fl_pop_2000-2010.xls\", header=[3])\n",
    "fl_pop_post_policy = pd.read_excel(\"../00_Source/Population/fl_pop_2010-2019.xlsx\", header=[3])"
   ]
  },
  {
   "cell_type": "code",
   "execution_count": null,
   "metadata": {},
   "outputs": [],
   "source": [
    "pop = clean_pop(fl_pop_pre_policy,fl_pop_post_policy)\n",
    "pop"
   ]
  },
  {
   "cell_type": "markdown",
   "metadata": {},
   "source": [
    "## merge population data with mortality data"
   ]
  },
  {
   "cell_type": "code",
   "execution_count": null,
   "metadata": {},
   "outputs": [],
   "source": [
    "def merge_mortalitypop(df_mortality, df_pop):\n",
    "    merged = df_mortality.merge(df_pop, how=\"left\")\n",
    "    merged[\"Mortality Rate\"] = merged[\"Deaths\"] / merged[\"Population\"]\n",
    "    return merged"
   ]
  },
  {
   "cell_type": "code",
   "execution_count": null,
   "metadata": {},
   "outputs": [],
   "source": [
    "merged = merge_mortalitypop(mortality, pop)"
   ]
  },
  {
   "cell_type": "code",
   "execution_count": null,
   "metadata": {},
   "outputs": [],
   "source": [
    "merged"
   ]
  },
  {
   "cell_type": "markdown",
   "metadata": {},
   "source": [
    "## Group by function (Calculate the total death and total population)"
   ]
  },
  {
   "cell_type": "code",
   "execution_count": null,
   "metadata": {},
   "outputs": [],
   "source": [
    "def calc_avg_mortality(df1, df2, df3):\n",
    "    df1 = df1.groupby('Year', as_index=False).sum()[['Year', 'Deaths', 'Population']]\n",
    "    df2 = df2.groupby('Year', as_index=False).sum()[['Year', 'Deaths', 'Population']]\n",
    "    df3 = df3.groupby('Year', as_index=False).sum()[['Year', 'Deaths', 'Population']]\n",
    "    \n",
    "    df = pd.concat([df1, df2, df3],ignore_index=True)\n",
    "    df = df.groupby('Year', as_index=False).sum()\n",
    "    df['Avg Mortality Rate'] = df['Deaths'] / df['Population']\n",
    "    return df"
   ]
  }
 ],
 "metadata": {
  "kernelspec": {
   "display_name": "Python 3",
   "language": "python",
   "name": "python3"
  },
  "language_info": {
   "codemirror_mode": {
    "name": "ipython",
    "version": 3
   },
   "file_extension": ".py",
   "mimetype": "text/x-python",
   "name": "python",
   "nbconvert_exporter": "python",
   "pygments_lexer": "ipython3",
   "version": "3.7.6"
  }
 },
 "nbformat": 4,
 "nbformat_minor": 4
}

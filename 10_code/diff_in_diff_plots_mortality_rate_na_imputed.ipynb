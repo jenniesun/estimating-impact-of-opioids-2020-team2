{
 "cells": [
  {
   "cell_type": "markdown",
   "metadata": {},
   "source": [
    "### Plot Diff-in-Diff for Florida, Texas, and Washington"
   ]
  },
  {
   "cell_type": "code",
   "execution_count": 1,
   "metadata": {},
   "outputs": [],
   "source": [
    "%load_ext lab_black\n",
    "import pandas as pd\n",
    "import seaborn as sns\n",
    "import matplotlib.pyplot as plt\n",
    "import numpy as np"
   ]
  },
  {
   "cell_type": "code",
   "execution_count": 2,
   "metadata": {},
   "outputs": [],
   "source": [
    "# # load mortality rate data\n",
    "\n",
    "# fl_pre_policy_mortality = pd.read_csv(\n",
    "#     \"./fl_pre_policy_mortality.csv\", sep=\",\", index_col=0\n",
    "# )\n",
    "# fl_post_policy_mortality = pd.read_csv(\n",
    "#     \"./fl_post_policy_mortality.csv\", sep=\",\", index_col=0\n",
    "# )\n",
    "# tx_pre_policy_mortality = pd.read_csv(\n",
    "#     \"./tx_pre_policy_mortality.csv\", sep=\",\", index_col=0\n",
    "# )\n",
    "# tx_post_policy_mortality = pd.read_csv(\n",
    "#     \"./tx_post_policy_mortality.csv\", sep=\",\", index_col=0\n",
    "# )\n",
    "# wa_pre_policy_mortality = pd.read_csv(\n",
    "#     \"./wa_pre_policy_mortality.csv\", sep=\",\", index_col=0\n",
    "# )\n",
    "# wa_post_policy_mortality = pd.read_csv(\n",
    "#     \"./wa_post_policy_mortality.csv\", sep=\",\", index_col=0\n",
    "# )"
   ]
  },
  {
   "cell_type": "code",
   "execution_count": 3,
   "metadata": {},
   "outputs": [],
   "source": [
    "# # concatenate pre and post mortality rate data\n",
    "\n",
    "# fl_mortality = pd.concat([fl_pre_policy_mortality, fl_post_policy_mortality])\n",
    "# tx_mortality = pd.concat([tx_pre_policy_mortality, tx_post_policy_mortality])\n",
    "# wa_mortality = pd.concat([wa_pre_policy_mortality, wa_post_policy_mortality])"
   ]
  },
  {
   "cell_type": "code",
   "execution_count": 4,
   "metadata": {},
   "outputs": [],
   "source": [
    "# subset to dataframes with averaged mortality rate by year for each state\n",
    "\n",
    "# fl_mortality_avg = fl_mortality.groupby([\"Year\"], as_index=False)[\n",
    "#     \"Mortality Rate\"\n",
    "# ].mean()\n",
    "# tx_mortality_avg = tx_mortality.groupby([\"Year\"], as_index=False)[\n",
    "#     \"Mortality Rate\"\n",
    "# ].mean()\n",
    "# wa_mortality_avg = wa_mortality.groupby([\"Year\"], as_index=False)[\n",
    "#     \"Mortality Rate\"\n",
    "# ].mean()"
   ]
  },
  {
   "cell_type": "code",
   "execution_count": 15,
   "metadata": {},
   "outputs": [],
   "source": [
    "fl_mortality = pd.read_csv(\"./fl_mortality.csv\", sep=\",\", index_col=0)\n",
    "tx_mortality = pd.read_csv(\"./tx_mortality.csv\", sep=\",\", index_col=0)\n",
    "wa_mortality = pd.read_csv(\"./wa_mortality.csv\", sep=\",\", index_col=0)\n",
    "mortality_compare_to_fl = pd.read_csv(\n",
    "    \"./mortality_comparisons_for_fl.csv\", sep=\",\", index_col=0\n",
    ")\n",
    "mortality_compare_to_tx = pd.read_csv(\n",
    "    \"./mortality_comparisons_for_tx.csv\", sep=\",\", index_col=0\n",
    ")\n",
    "mortality_compare_to_wa = pd.read_csv(\n",
    "    \"./mortality_comparisons_for_wa.csv\", sep=\",\", index_col=0\n",
    ")"
   ]
  },
  {
   "cell_type": "code",
   "execution_count": 14,
   "metadata": {},
   "outputs": [
    {
     "data": {
      "text/html": [
       "<div>\n",
       "<style scoped>\n",
       "    .dataframe tbody tr th:only-of-type {\n",
       "        vertical-align: middle;\n",
       "    }\n",
       "\n",
       "    .dataframe tbody tr th {\n",
       "        vertical-align: top;\n",
       "    }\n",
       "\n",
       "    .dataframe thead th {\n",
       "        text-align: right;\n",
       "    }\n",
       "</style>\n",
       "<table border=\"1\" class=\"dataframe\">\n",
       "  <thead>\n",
       "    <tr style=\"text-align: right;\">\n",
       "      <th></th>\n",
       "      <th>Year</th>\n",
       "      <th>County</th>\n",
       "      <th>Deaths</th>\n",
       "      <th>Population</th>\n",
       "      <th>State</th>\n",
       "      <th>Mortality Rate</th>\n",
       "    </tr>\n",
       "  </thead>\n",
       "  <tbody>\n",
       "    <tr>\n",
       "      <th>0</th>\n",
       "      <td>2003</td>\n",
       "      <td>Alachua County</td>\n",
       "      <td>11.0</td>\n",
       "      <td>227022.0</td>\n",
       "      <td>FL</td>\n",
       "      <td>0.000048</td>\n",
       "    </tr>\n",
       "    <tr>\n",
       "      <th>1</th>\n",
       "      <td>2003</td>\n",
       "      <td>Baker County</td>\n",
       "      <td>3.0</td>\n",
       "      <td>23555.0</td>\n",
       "      <td>FL</td>\n",
       "      <td>0.000127</td>\n",
       "    </tr>\n",
       "    <tr>\n",
       "      <th>2</th>\n",
       "      <td>2003</td>\n",
       "      <td>Bay County</td>\n",
       "      <td>21.0</td>\n",
       "      <td>155044.0</td>\n",
       "      <td>FL</td>\n",
       "      <td>0.000135</td>\n",
       "    </tr>\n",
       "    <tr>\n",
       "      <th>3</th>\n",
       "      <td>2003</td>\n",
       "      <td>Bradford County</td>\n",
       "      <td>7.0</td>\n",
       "      <td>27035.0</td>\n",
       "      <td>FL</td>\n",
       "      <td>0.000259</td>\n",
       "    </tr>\n",
       "    <tr>\n",
       "      <th>4</th>\n",
       "      <td>2003</td>\n",
       "      <td>Brevard County</td>\n",
       "      <td>97.0</td>\n",
       "      <td>504847.0</td>\n",
       "      <td>FL</td>\n",
       "      <td>0.000192</td>\n",
       "    </tr>\n",
       "    <tr>\n",
       "      <th>...</th>\n",
       "      <td>...</td>\n",
       "      <td>...</td>\n",
       "      <td>...</td>\n",
       "      <td>...</td>\n",
       "      <td>...</td>\n",
       "      <td>...</td>\n",
       "    </tr>\n",
       "    <tr>\n",
       "      <th>866</th>\n",
       "      <td>2015</td>\n",
       "      <td>Union County</td>\n",
       "      <td>8.0</td>\n",
       "      <td>15265.0</td>\n",
       "      <td>FL</td>\n",
       "      <td>0.000524</td>\n",
       "    </tr>\n",
       "    <tr>\n",
       "      <th>867</th>\n",
       "      <td>2015</td>\n",
       "      <td>Volusia County</td>\n",
       "      <td>98.0</td>\n",
       "      <td>516730.0</td>\n",
       "      <td>FL</td>\n",
       "      <td>0.000190</td>\n",
       "    </tr>\n",
       "    <tr>\n",
       "      <th>868</th>\n",
       "      <td>2015</td>\n",
       "      <td>Wakulla County</td>\n",
       "      <td>6.0</td>\n",
       "      <td>31523.0</td>\n",
       "      <td>FL</td>\n",
       "      <td>0.000190</td>\n",
       "    </tr>\n",
       "    <tr>\n",
       "      <th>869</th>\n",
       "      <td>2015</td>\n",
       "      <td>Walton County</td>\n",
       "      <td>4.0</td>\n",
       "      <td>63066.0</td>\n",
       "      <td>FL</td>\n",
       "      <td>0.000063</td>\n",
       "    </tr>\n",
       "    <tr>\n",
       "      <th>870</th>\n",
       "      <td>2015</td>\n",
       "      <td>Washington County</td>\n",
       "      <td>3.0</td>\n",
       "      <td>24552.0</td>\n",
       "      <td>FL</td>\n",
       "      <td>0.000122</td>\n",
       "    </tr>\n",
       "  </tbody>\n",
       "</table>\n",
       "<p>871 rows × 6 columns</p>\n",
       "</div>"
      ],
      "text/plain": [
       "     Year             County  Deaths  Population State  Mortality Rate\n",
       "0    2003     Alachua County    11.0    227022.0    FL        0.000048\n",
       "1    2003       Baker County     3.0     23555.0    FL        0.000127\n",
       "2    2003         Bay County    21.0    155044.0    FL        0.000135\n",
       "3    2003    Bradford County     7.0     27035.0    FL        0.000259\n",
       "4    2003     Brevard County    97.0    504847.0    FL        0.000192\n",
       "..    ...                ...     ...         ...   ...             ...\n",
       "866  2015       Union County     8.0     15265.0    FL        0.000524\n",
       "867  2015     Volusia County    98.0    516730.0    FL        0.000190\n",
       "868  2015     Wakulla County     6.0     31523.0    FL        0.000190\n",
       "869  2015      Walton County     4.0     63066.0    FL        0.000063\n",
       "870  2015  Washington County     3.0     24552.0    FL        0.000122\n",
       "\n",
       "[871 rows x 6 columns]"
      ]
     },
     "execution_count": 14,
     "metadata": {},
     "output_type": "execute_result"
    }
   ],
   "source": [
    "fl_mortality"
   ]
  },
  {
   "cell_type": "code",
   "execution_count": 16,
   "metadata": {
    "collapsed": true,
    "jupyter": {
     "outputs_hidden": true
    }
   },
   "outputs": [
    {
     "data": {
      "text/html": [
       "<div>\n",
       "<style scoped>\n",
       "    .dataframe tbody tr th:only-of-type {\n",
       "        vertical-align: middle;\n",
       "    }\n",
       "\n",
       "    .dataframe tbody tr th {\n",
       "        vertical-align: top;\n",
       "    }\n",
       "\n",
       "    .dataframe thead th {\n",
       "        text-align: right;\n",
       "    }\n",
       "</style>\n",
       "<table border=\"1\" class=\"dataframe\">\n",
       "  <thead>\n",
       "    <tr style=\"text-align: right;\">\n",
       "      <th></th>\n",
       "      <th>Year</th>\n",
       "      <th>County</th>\n",
       "      <th>Deaths</th>\n",
       "      <th>Population</th>\n",
       "      <th>State</th>\n",
       "      <th>Mortality Rate</th>\n",
       "    </tr>\n",
       "  </thead>\n",
       "  <tbody>\n",
       "    <tr>\n",
       "      <th>0</th>\n",
       "      <td>2003</td>\n",
       "      <td>Pulaski County</td>\n",
       "      <td>18.0</td>\n",
       "      <td>365258.0</td>\n",
       "      <td>AR</td>\n",
       "      <td>0.000049</td>\n",
       "    </tr>\n",
       "    <tr>\n",
       "      <th>1</th>\n",
       "      <td>2004</td>\n",
       "      <td>Pulaski County</td>\n",
       "      <td>35.0</td>\n",
       "      <td>366608.0</td>\n",
       "      <td>AR</td>\n",
       "      <td>0.000095</td>\n",
       "    </tr>\n",
       "    <tr>\n",
       "      <th>2</th>\n",
       "      <td>2005</td>\n",
       "      <td>Benton County</td>\n",
       "      <td>10.0</td>\n",
       "      <td>186756.0</td>\n",
       "      <td>AR</td>\n",
       "      <td>0.000054</td>\n",
       "    </tr>\n",
       "    <tr>\n",
       "      <th>3</th>\n",
       "      <td>2005</td>\n",
       "      <td>Pulaski County</td>\n",
       "      <td>41.0</td>\n",
       "      <td>368274.0</td>\n",
       "      <td>AR</td>\n",
       "      <td>0.000111</td>\n",
       "    </tr>\n",
       "    <tr>\n",
       "      <th>4</th>\n",
       "      <td>2005</td>\n",
       "      <td>Saline County</td>\n",
       "      <td>10.0</td>\n",
       "      <td>93493.0</td>\n",
       "      <td>AR</td>\n",
       "      <td>0.000107</td>\n",
       "    </tr>\n",
       "    <tr>\n",
       "      <th>...</th>\n",
       "      <td>...</td>\n",
       "      <td>...</td>\n",
       "      <td>...</td>\n",
       "      <td>...</td>\n",
       "      <td>...</td>\n",
       "      <td>...</td>\n",
       "    </tr>\n",
       "    <tr>\n",
       "      <th>2270</th>\n",
       "      <td>2015</td>\n",
       "      <td>Sierra County</td>\n",
       "      <td>2.0</td>\n",
       "      <td>11236.0</td>\n",
       "      <td>NM</td>\n",
       "      <td>0.000178</td>\n",
       "    </tr>\n",
       "    <tr>\n",
       "      <th>2271</th>\n",
       "      <td>2015</td>\n",
       "      <td>Socorro County</td>\n",
       "      <td>5.0</td>\n",
       "      <td>17152.0</td>\n",
       "      <td>NM</td>\n",
       "      <td>0.000292</td>\n",
       "    </tr>\n",
       "    <tr>\n",
       "      <th>2272</th>\n",
       "      <td>2015</td>\n",
       "      <td>Taos County</td>\n",
       "      <td>7.0</td>\n",
       "      <td>32797.0</td>\n",
       "      <td>NM</td>\n",
       "      <td>0.000213</td>\n",
       "    </tr>\n",
       "    <tr>\n",
       "      <th>2273</th>\n",
       "      <td>2015</td>\n",
       "      <td>Torrance County</td>\n",
       "      <td>0.0</td>\n",
       "      <td>15596.0</td>\n",
       "      <td>NM</td>\n",
       "      <td>0.000000</td>\n",
       "    </tr>\n",
       "    <tr>\n",
       "      <th>2274</th>\n",
       "      <td>2015</td>\n",
       "      <td>Union County</td>\n",
       "      <td>3.0</td>\n",
       "      <td>4163.0</td>\n",
       "      <td>NM</td>\n",
       "      <td>0.000721</td>\n",
       "    </tr>\n",
       "  </tbody>\n",
       "</table>\n",
       "<p>2275 rows × 6 columns</p>\n",
       "</div>"
      ],
      "text/plain": [
       "      Year           County  Deaths  Population State  Mortality Rate\n",
       "0     2003   Pulaski County    18.0    365258.0    AR        0.000049\n",
       "1     2004   Pulaski County    35.0    366608.0    AR        0.000095\n",
       "2     2005    Benton County    10.0    186756.0    AR        0.000054\n",
       "3     2005   Pulaski County    41.0    368274.0    AR        0.000111\n",
       "4     2005    Saline County    10.0     93493.0    AR        0.000107\n",
       "...    ...              ...     ...         ...   ...             ...\n",
       "2270  2015    Sierra County     2.0     11236.0    NM        0.000178\n",
       "2271  2015   Socorro County     5.0     17152.0    NM        0.000292\n",
       "2272  2015      Taos County     7.0     32797.0    NM        0.000213\n",
       "2273  2015  Torrance County     0.0     15596.0    NM        0.000000\n",
       "2274  2015     Union County     3.0      4163.0    NM        0.000721\n",
       "\n",
       "[2275 rows x 6 columns]"
      ]
     },
     "execution_count": 16,
     "metadata": {},
     "output_type": "execute_result"
    }
   ],
   "source": [
    "mortality_compare_to_fl"
   ]
  },
  {
   "cell_type": "code",
   "execution_count": 6,
   "metadata": {},
   "outputs": [
    {
     "data": {
      "text/plain": [
       "159"
      ]
     },
     "execution_count": 6,
     "metadata": {},
     "output_type": "execute_result"
    }
   ],
   "source": [
    "mortality_compare_to_fl[\"County\"].nunique()"
   ]
  },
  {
   "cell_type": "code",
   "execution_count": 10,
   "metadata": {},
   "outputs": [],
   "source": [
    "# fl_mortality.groupby([\"Year\", \"State\", \"County\"], as_index=False)[\"Deaths\"].mean()"
   ]
  },
  {
   "cell_type": "code",
   "execution_count": 9,
   "metadata": {},
   "outputs": [],
   "source": [
    "# fl_mortality.groupby([\"Year\"])[\"Population\"].sum()"
   ]
  },
  {
   "cell_type": "code",
   "execution_count": 7,
   "metadata": {},
   "outputs": [],
   "source": [
    "# mortality_compare_to_fl[\"Mortality Rate\"].describe()"
   ]
  },
  {
   "cell_type": "code",
   "execution_count": 8,
   "metadata": {},
   "outputs": [],
   "source": [
    "# mortality_compare_to_fl.groupby([\"Year\"])[\"Population\"].sum()"
   ]
  },
  {
   "cell_type": "markdown",
   "metadata": {},
   "source": [
    "#### Florida"
   ]
  },
  {
   "cell_type": "code",
   "execution_count": 17,
   "metadata": {},
   "outputs": [],
   "source": [
    "# seperate to pre and post policy periods for FL and comparison states (average of PA, AR, NM)\n",
    "\n",
    "x_pre_fl = np.array(fl_mortality[fl_mortality[\"Year\"] < 2010][\"Year\"])\n",
    "y_pre_fl = np.array(fl_mortality[fl_mortality[\"Year\"] < 2010][\"Mortality Rate\"])\n",
    "x_post_fl = np.array(fl_mortality[fl_mortality[\"Year\"] >= 2010][\"Year\"])\n",
    "y_post_fl = np.array(fl_mortality[fl_mortality[\"Year\"] >= 2010][\"Mortality Rate\"])\n",
    "\n",
    "x_pre_comp = np.array(\n",
    "    mortality_compare_to_fl[mortality_compare_to_fl[\"Year\"] < 2010][\"Year\"]\n",
    ")\n",
    "y_pre_comp = np.array(\n",
    "    mortality_compare_to_fl[mortality_compare_to_fl[\"Year\"] < 2010][\"Mortality Rate\"]\n",
    ")\n",
    "x_post_comp = np.array(\n",
    "    mortality_compare_to_fl[mortality_compare_to_fl[\"Year\"] >= 2010][\"Year\"]\n",
    ")\n",
    "y_post_comp = np.array(\n",
    "    mortality_compare_to_fl[mortality_compare_to_fl[\"Year\"] >= 2010][\"Mortality Rate\"]\n",
    ")"
   ]
  },
  {
   "cell_type": "code",
   "execution_count": 18,
   "metadata": {},
   "outputs": [
    {
     "data": {
      "image/png": "[encoded data removed]",
      "text/plain": [
       "<Figure size 432x288 with 1 Axes>"
      ]
     },
     "metadata": {
      "needs_background": "light"
     },
     "output_type": "display_data"
    }
   ],
   "source": [
    "import warnings\n",
    "\n",
    "warnings.filterwarnings(\"ignore\")\n",
    "\n",
    "fig, ax = plt.subplots()\n",
    "# ax.plot(x_pre_fl, y_pre_fl, \"o\")\n",
    "m, b = np.polyfit(x_pre_fl, y_pre_fl, 1)\n",
    "plt.plot(x_pre_fl, m * x_pre_fl + b, color=\"red\")\n",
    "ax = sns.regplot(x_pre_fl, y_pre_fl, ci=95, color=\"r\", scatter=False)\n",
    "\n",
    "# ax.plot(x_post_fl, y_post_fl, \"o\")\n",
    "m, b = np.polyfit(x_post_fl, y_post_fl, 1)\n",
    "plt.plot(x_post_fl, m * x_post_fl + b, color=\"red\", label=\"Florida\")\n",
    "ax = sns.regplot(x_post_fl, y_post_fl, ci=95, color=\"r\", scatter=False)\n",
    "\n",
    "# ax.plot(x_pre_comp, y_pre_comp, \"o\")\n",
    "m, b = np.polyfit(x_pre_comp, y_pre_comp, 1)\n",
    "plt.plot(x_pre_comp, m * x_pre_comp + b, color=\"blue\")\n",
    "sns.regplot(x_pre_comp, y_pre_comp, ci=95, color=\"b\")\n",
    "\n",
    "# ax.plot(x_post_comp, y_post_comp, \"o\")\n",
    "m, b = np.polyfit(x_post_comp, y_post_comp, 1)\n",
    "plt.plot(x_post_comp, m * x_post_comp + b, color=\"blue\", label=\"Comparison\")\n",
    "sns.regplot(x_post_comp, y_post_comp, ci=95, color=\"b\")\n",
    "\n",
    "plt.xlabel(\"Year\")\n",
    "plt.ylabel(\"Avg. Mortality Rate\")\n",
    "plt.title(\"FL Diff-in-Diff Model Graph\")\n",
    "plt.axvline(x=2010, color=\"black\", ls=\":\")\n",
    "plt.text(2006.8, 0.00020, \"Policy Change\", fontsize=12)\n",
    "plt.text(2003.3, 0.000212, \"CI:95%\", fontsize=10)\n",
    "plt.grid(b=True, which=\"major\", color=\"#999999\", linestyle=\"-\", alpha=0.2)\n",
    "\n",
    "plt.legend(loc=\"upper left\")\n",
    "plt.show()"
   ]
  },
  {
   "cell_type": "markdown",
   "metadata": {},
   "source": [
    "### Texas"
   ]
  },
  {
   "cell_type": "code",
   "execution_count": 19,
   "metadata": {},
   "outputs": [],
   "source": [
    "# seperate to pre and post policy periods for TX and comparison states (average of CO, ID, MI)\n",
    "\n",
    "x_pre_tx = np.array(tx_mortality[tx_mortality[\"Year\"] < 2007][\"Year\"])\n",
    "y_pre_tx = np.array(tx_mortality[tx_mortality[\"Year\"] < 2007][\"Mortality Rate\"])\n",
    "x_post_tx = np.array(tx_mortality[tx_mortality[\"Year\"] >= 2007][\"Year\"])\n",
    "y_post_tx = np.array(tx_mortality[tx_mortality[\"Year\"] >= 2007][\"Mortality Rate\"])\n",
    "\n",
    "x_pre_comp_tx = np.array(\n",
    "    mortality_compare_to_tx[mortality_compare_to_tx[\"Year\"] < 2007][\"Year\"]\n",
    ")\n",
    "y_pre_comp_tx = np.array(\n",
    "    mortality_compare_to_tx[mortality_compare_to_tx[\"Year\"] < 2007][\"Mortality Rate\"]\n",
    ")\n",
    "x_post_comp_tx = np.array(\n",
    "    mortality_compare_to_tx[mortality_compare_to_tx[\"Year\"] >= 2007][\"Year\"]\n",
    ")\n",
    "y_post_comp_tx = np.array(\n",
    "    mortality_compare_to_tx[mortality_compare_to_tx[\"Year\"] >= 2007][\"Mortality Rate\"]\n",
    ")"
   ]
  },
  {
   "cell_type": "code",
   "execution_count": 20,
   "metadata": {},
   "outputs": [
    {
     "data": {
      "image/png": "[encoded data removed]",
      "text/plain": [
       "<Figure size 432x288 with 1 Axes>"
      ]
     },
     "metadata": {
      "needs_background": "light"
     },
     "output_type": "display_data"
    }
   ],
   "source": [
    "import warnings\n",
    "\n",
    "warnings.filterwarnings(\"ignore\")\n",
    "\n",
    "fig, ax = plt.subplots()\n",
    "# ax.plot(x_pre_tx, y_pre_tx, \"o\")\n",
    "m, b = np.polyfit(x_pre_tx, y_pre_tx, 1)\n",
    "plt.plot(x_pre_tx, m * x_pre_tx + b, color=\"red\")\n",
    "ax = sns.regplot(x_pre_tx, y_pre_tx, ci=95, color=\"r\", scatter=False)\n",
    "\n",
    "# ax.plot(x_post_tx, y_post_tx, \"o\")\n",
    "m, b = np.polyfit(x_post_tx, y_post_tx, 1)\n",
    "plt.plot(x_post_tx, m * x_post_tx + b, color=\"red\", label=\"Texas\")\n",
    "ax = sns.regplot(x_post_tx, y_post_tx, ci=95, color=\"r\", scatter=False)\n",
    "\n",
    "# ax.plot(x_pre_comp_tx, y_pre_comp_tx, \"o\")\n",
    "m, b = np.polyfit(x_pre_comp_tx, y_pre_comp_tx, 1)\n",
    "plt.plot(x_pre_comp_tx, m * x_pre_comp_tx + b, color=\"blue\")\n",
    "ax = sns.regplot(x_pre_comp_tx, y_pre_comp_tx, ci=95, color=\"b\", scatter=False)\n",
    "\n",
    "# ax.plot(x_post_comp_tx, y_post_comp_tx, \"o\")\n",
    "m, b = np.polyfit(x_post_comp_tx, y_post_comp_tx, 1)\n",
    "plt.plot(x_post_comp_tx, m * x_post_comp_tx + b, color=\"blue\", label=\"Comparison\")\n",
    "ax = sns.regplot(x_post_comp_tx, y_post_comp_tx, ci=95, color=\"b\", scatter=False)\n",
    "\n",
    "plt.xlabel(\"Year\")\n",
    "plt.ylabel(\"Avg. Mortality Rate\")\n",
    "plt.title(\"TX Diff-in-Diff Model Graph\")\n",
    "plt.axvline(x=2007, color=\"black\", ls=\":\")\n",
    "plt.text(2007.2, 0.000075, \"Policy Change\", fontsize=12)\n",
    "plt.text(2003.3, 0.00017, \"CI:95%\", fontsize=10)\n",
    "plt.grid(b=True, which=\"major\", color=\"#999999\", linestyle=\"-\", alpha=0.2)\n",
    "\n",
    "plt.legend(loc=\"upper left\")\n",
    "plt.show()"
   ]
  },
  {
   "cell_type": "markdown",
   "metadata": {},
   "source": [
    "#### Washington"
   ]
  },
  {
   "cell_type": "code",
   "execution_count": 21,
   "metadata": {},
   "outputs": [],
   "source": [
    "# seperate to pre and post policy periods for WA and comparison states (average of OR, CA, NV)\n",
    "\n",
    "x_pre_wa = np.array(wa_mortality[wa_mortality[\"Year\"] < 2012][\"Year\"])\n",
    "y_pre_wa = np.array(wa_mortality[wa_mortality[\"Year\"] < 2012][\"Mortality Rate\"])\n",
    "x_post_wa = np.array(wa_mortality[wa_mortality[\"Year\"] >= 2012][\"Year\"])\n",
    "y_post_wa = np.array(wa_mortality[wa_mortality[\"Year\"] >= 2012][\"Mortality Rate\"])\n",
    "\n",
    "x_pre_comp_wa = np.array(\n",
    "    mortality_compare_to_wa[mortality_compare_to_wa[\"Year\"] < 2012][\"Year\"]\n",
    ")\n",
    "y_pre_comp_wa = np.array(\n",
    "    mortality_compare_to_wa[mortality_compare_to_wa[\"Year\"] < 2012][\"Mortality Rate\"]\n",
    ")\n",
    "x_post_comp_wa = np.array(\n",
    "    mortality_compare_to_wa[mortality_compare_to_wa[\"Year\"] >= 2012][\"Year\"]\n",
    ")\n",
    "y_post_comp_wa = np.array(\n",
    "    mortality_compare_to_wa[mortality_compare_to_wa[\"Year\"] >= 2012][\"Mortality Rate\"]\n",
    ")"
   ]
  },
  {
   "cell_type": "code",
   "execution_count": 22,
   "metadata": {},
   "outputs": [
    {
     "data": {
      "image/png": "[encoded data removed]",
      "text/plain": [
       "<Figure size 432x288 with 1 Axes>"
      ]
     },
     "metadata": {
      "needs_background": "light"
     },
     "output_type": "display_data"
    }
   ],
   "source": [
    "import warnings\n",
    "\n",
    "warnings.filterwarnings(\"ignore\")\n",
    "\n",
    "fig, ax = plt.subplots()\n",
    "# ax.plot(x_pre_wa, y_pre_wa, \"o\")\n",
    "m, b = np.polyfit(x_pre_wa, y_pre_wa, 1)\n",
    "plt.plot(x_pre_wa, m * x_pre_wa + b, color=\"red\")\n",
    "ax = sns.regplot(x_pre_wa, y_pre_wa, ci=95, color=\"r\", scatter=False)\n",
    "\n",
    "# ax.plot(x_post_wa, y_post_wa, \"o\")\n",
    "m, b = np.polyfit(x_post_wa, y_post_wa, 1)\n",
    "plt.plot(x_post_wa, m * x_post_wa + b, color=\"red\", label=\"Washington\")\n",
    "ax = sns.regplot(x_post_wa, y_post_wa, ci=95, color=\"r\", scatter=False)\n",
    "\n",
    "# ax.plot(x_pre_comp_wa, y_pre_comp_wa, \"o\")\n",
    "m, b = np.polyfit(x_pre_comp_wa, y_pre_comp_wa, 1)\n",
    "plt.plot(x_pre_comp_wa, m * x_pre_comp_wa + b, color=\"blue\")\n",
    "ax = sns.regplot(x_pre_comp_wa, y_pre_comp_wa, ci=95, color=\"b\", scatter=False)\n",
    "\n",
    "# ax.plot(x_post_comp_wa, y_post_comp_wa, \"o\")\n",
    "m, b = np.polyfit(x_post_comp_wa, y_post_comp_wa, 1)\n",
    "plt.plot(x_post_comp_wa, m * x_post_comp_wa + b, color=\"blue\", label=\"Comparison\")\n",
    "ax = sns.regplot(x_post_comp_wa, y_post_comp_wa, ci=95, color=\"b\", scatter=False)\n",
    "\n",
    "plt.xlabel(\"Year\")\n",
    "plt.ylabel(\"Avg. Mortality Rate\")\n",
    "plt.title(\"WA Diff-in-Diff Model Graph\")\n",
    "plt.axvline(x=2012, color=\"black\", ls=\":\")\n",
    "plt.text(2008.8, 0.00011, \"Policy Change\", fontsize=12)\n",
    "plt.text(2003.3, 0.000168, \"CI:95%\", fontsize=10)\n",
    "plt.grid(b=True, which=\"major\", color=\"#999999\", linestyle=\"-\", alpha=0.2)\n",
    "\n",
    "plt.legend(loc=\"best\")\n",
    "plt.show()"
   ]
  },
  {
   "cell_type": "code",
   "execution_count": null,
   "metadata": {},
   "outputs": [],
   "source": []
  }
 ],
 "metadata": {
  "kernelspec": {
   "display_name": "Python 3",
   "language": "python",
   "name": "python3"
  },
  "language_info": {
   "codemirror_mode": {
    "name": "ipython",
    "version": 3
   },
   "file_extension": ".py",
   "mimetype": "text/x-python",
   "name": "python",
   "nbconvert_exporter": "python",
   "pygments_lexer": "ipython3",
   "version": "3.7.6"
  }
 },
 "nbformat": 4,
 "nbformat_minor": 4
}
